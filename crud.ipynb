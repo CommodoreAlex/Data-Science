{
 "cells": [
  {
   "cell_type": "markdown",
   "id": "71dea3f0-e094-4d6a-85d5-f6c9548199a5",
   "metadata": {},
   "source": [
    "### Experimenting with NumPy: CRUD Operations (Create, Read, Update, and Delete)\n",
    "\n",
    "As I continue my journey in Data Science, understanding NumPy's core functionalities is essential for building a strong foundation. This notebook serves as a hands-on guide to NumPy's CRUD operations, providing a quick yet comprehensive introduction to its capabilities. \n",
    "\n",
    "#### In this notebook, you'll learn how to:\n",
    "1. Install and set up NumPy  \n",
    "2. Create and transform NumPy arrays  \n",
    "3. Apply mathematical functions and export data  \n",
    "\n",
    "#### Tutorial Credit:  \n",
    "This tutorial is based on the video by Nicholas Renotte: [NumPy in 15 Minutes](https://www.youtube.com/watch?v=uRsE5WGiKWo&t=902s).  \n",
    "\n",
    "---\n"
   ]
  },
  {
   "cell_type": "code",
   "execution_count": 96,
   "id": "b6f83366-3e8c-4b91-9af7-199ab4886c53",
   "metadata": {},
   "outputs": [
    {
     "name": "stdout",
     "output_type": "stream",
     "text": [
      "Requirement already satisfied: numpy in c:\\users\\alexa\\anaconda3\\lib\\site-packages (1.26.4)\n"
     ]
    }
   ],
   "source": [
    "# Installing Python libraries in Jupyter Notebooks, where something may not be installed\n",
    "!pip install numpy"
   ]
  },
  {
   "cell_type": "code",
   "execution_count": 3,
   "id": "1bbbe4c4-ec9a-4310-9a2a-c39a2ef0e523",
   "metadata": {},
   "outputs": [],
   "source": [
    "# Importing required libraries\n",
    "import numpy as np"
   ]
  },
  {
   "cell_type": "markdown",
   "id": "caa9ef44-aa11-428e-8cb0-3e01e3e76fe6",
   "metadata": {},
   "source": [
    "## 1. Create"
   ]
  },
  {
   "cell_type": "code",
   "execution_count": 31,
   "id": "1ac13fea-43b0-4440-bb0c-ffc43635a305",
   "metadata": {},
   "outputs": [],
   "source": [
    "data = np.random.rand(2, 3, 4)\n",
    "zeroes = np.zeros((2, 2, 2))\n",
    "full = np.full((2, 2, 2), 7)\n",
    "ones = np.ones((2, 2, 2))"
   ]
  },
  {
   "cell_type": "code",
   "execution_count": 16,
   "id": "99ff42dd-c841-4d59-9bff-fe77be8fd974",
   "metadata": {},
   "outputs": [
    {
     "data": {
      "text/plain": [
       "array([[[0.51223376, 0.51271842, 0.46240247, 0.17406409],\n",
       "        [0.69714508, 0.98182843, 0.52612053, 0.92987098],\n",
       "        [0.07322367, 0.2444982 , 0.62673713, 0.44122506]],\n",
       "\n",
       "       [[0.85232048, 0.94725478, 0.86052173, 0.25454183],\n",
       "        [0.39666809, 0.59120745, 0.38307354, 0.23814437],\n",
       "        [0.55226361, 0.89588042, 0.68590139, 0.2122613 ]]])"
      ]
     },
     "execution_count": 16,
     "metadata": {},
     "output_type": "execute_result"
    }
   ],
   "source": [
    "# Calling a 3-dimensional array with random values (2, (2 layers or blocks) 3, (each layer has 3 rows), 4 (4 elements(columns))\n",
    "data"
   ]
  },
  {
   "cell_type": "code",
   "execution_count": 18,
   "id": "d7cdf690-cc92-4ea9-bf65-195b644ac07d",
   "metadata": {},
   "outputs": [
    {
     "data": {
      "text/plain": [
       "array([[[0., 0.],\n",
       "        [0., 0.]],\n",
       "\n",
       "       [[0., 0.],\n",
       "        [0., 0.]]])"
      ]
     },
     "execution_count": 18,
     "metadata": {},
     "output_type": "execute_result"
    }
   ],
   "source": [
    "# Calling an array of zeros\n",
    "zeroes"
   ]
  },
  {
   "cell_type": "code",
   "execution_count": 20,
   "id": "4096d6eb-552f-4b9e-9237-d61d4e4c978a",
   "metadata": {},
   "outputs": [
    {
     "data": {
      "text/plain": [
       "array([[[7, 7],\n",
       "        [7, 7]],\n",
       "\n",
       "       [[7, 7],\n",
       "        [7, 7]]])"
      ]
     },
     "execution_count": 20,
     "metadata": {},
     "output_type": "execute_result"
    }
   ],
   "source": [
    "# Similar to np.zero- replacing zero with the number 7 (specific number we parse in full)\n",
    "full"
   ]
  },
  {
   "cell_type": "code",
   "execution_count": 22,
   "id": "80a32b17-87ef-4d89-a6bb-e8a83e12115e",
   "metadata": {},
   "outputs": [
    {
     "data": {
      "text/plain": [
       "array([[[1., 1.],\n",
       "        [1., 1.]],\n",
       "\n",
       "       [[1., 1.],\n",
       "        [1., 1.]]])"
      ]
     },
     "execution_count": 22,
     "metadata": {},
     "output_type": "execute_result"
    }
   ],
   "source": [
    "# Fill an array with ones\n",
    "ones"
   ]
  },
  {
   "cell_type": "code",
   "execution_count": 24,
   "id": "290854ba-7cd0-4e28-a2e8-086117870844",
   "metadata": {},
   "outputs": [],
   "source": [
    "# Generating an array with our own numbers\n",
    "arr = np.array([[1,2,3,4],[1,2,3,4]])"
   ]
  },
  {
   "cell_type": "code",
   "execution_count": 28,
   "id": "1b543f7b-eabd-49fa-8bf4-51c93c8cf4ba",
   "metadata": {},
   "outputs": [
    {
     "data": {
      "text/plain": [
       "numpy.ndarray"
      ]
     },
     "execution_count": 28,
     "metadata": {},
     "output_type": "execute_result"
    }
   ],
   "source": [
    "# Checking the type\n",
    "type(arr)"
   ]
  },
  {
   "cell_type": "markdown",
   "id": "5488d586-0f48-4e60-8e47-6a0717a26615",
   "metadata": {},
   "source": [
    "## 2. Read"
   ]
  },
  {
   "cell_type": "code",
   "execution_count": 70,
   "id": "f885d6cb-259f-4e97-a4fb-734d27a615a3",
   "metadata": {},
   "outputs": [],
   "source": [
    "# Attributes\n",
    "shape = data.shape\n",
    "size = data.size\n",
    "types = data.dtype"
   ]
  },
  {
   "cell_type": "code",
   "execution_count": 72,
   "id": "2af256cb-7b68-4a78-b1af-820e2cde6bd8",
   "metadata": {},
   "outputs": [
    {
     "data": {
      "text/plain": [
       "(2, 3, 4)"
      ]
     },
     "execution_count": 72,
     "metadata": {},
     "output_type": "execute_result"
    }
   ],
   "source": [
    " # See the shape of our array\n",
    "shape"
   ]
  },
  {
   "cell_type": "code",
   "execution_count": 74,
   "id": "7452d530-5f57-4d24-aa62-79ca0268121e",
   "metadata": {},
   "outputs": [
    {
     "data": {
      "text/plain": [
       "24"
      ]
     },
     "execution_count": 74,
     "metadata": {},
     "output_type": "execute_result"
    }
   ],
   "source": [
    "# Number of values in array\n",
    "size"
   ]
  },
  {
   "cell_type": "code",
   "execution_count": 76,
   "id": "49158755-8060-4bc9-ac97-1ccab51e9bad",
   "metadata": {},
   "outputs": [
    {
     "data": {
      "text/plain": [
       "dtype('float64')"
      ]
     },
     "execution_count": 76,
     "metadata": {},
     "output_type": "execute_result"
    }
   ],
   "source": [
    "# See types of values in array\n",
    "types"
   ]
  },
  {
   "cell_type": "code",
   "execution_count": 78,
   "id": "ee31e5f9-447e-4244-9c3a-28d5703be972",
   "metadata": {},
   "outputs": [],
   "source": [
    "# Slicing\n",
    "arr = data[0]\n",
    "slicer = data[0][0:2]\n",
    "reverse = data[-1]\n",
    "singleval = data[0][0][0]"
   ]
  },
  {
   "cell_type": "code",
   "execution_count": 80,
   "id": "a6b5f9b5-0993-43b2-8b7f-78ed98a2c42f",
   "metadata": {},
   "outputs": [
    {
     "data": {
      "text/plain": [
       "array([[0.45719974, 0.24235865, 0.50607585, 0.9847511 ],\n",
       "       [0.42633865, 0.94190729, 0.01475145, 0.13405524],\n",
       "       [0.99041946, 0.79143832, 0.9056691 , 0.63011621]])"
      ]
     },
     "execution_count": 80,
     "metadata": {},
     "output_type": "execute_result"
    }
   ],
   "source": [
    "# Grab our first array of three-values\n",
    "arr"
   ]
  },
  {
   "cell_type": "code",
   "execution_count": 82,
   "id": "ebd9e352-c333-450c-866b-2c1123bdd433",
   "metadata": {},
   "outputs": [
    {
     "data": {
      "text/plain": [
       "array([[0.45719974, 0.24235865, 0.50607585, 0.9847511 ],\n",
       "       [0.42633865, 0.94190729, 0.01475145, 0.13405524]])"
      ]
     },
     "execution_count": 82,
     "metadata": {},
     "output_type": "execute_result"
    }
   ],
   "source": [
    "# We can slice our array to grab multiple values\n",
    "slicer"
   ]
  },
  {
   "cell_type": "code",
   "execution_count": 84,
   "id": "531fb579-59ae-478f-9dbe-c31bf0c323b2",
   "metadata": {},
   "outputs": [
    {
     "data": {
      "text/plain": [
       "array([[0.52990238, 0.39527117, 0.63000086, 0.37260898],\n",
       "       [0.79467492, 0.23141782, 0.32021793, 0.16320952],\n",
       "       [0.75065886, 0.56899016, 0.04974044, 0.79833223]])"
      ]
     },
     "execution_count": 84,
     "metadata": {},
     "output_type": "execute_result"
    }
   ],
   "source": [
    "# We can grab the last value of our array by using negative integers\n",
    "reverse"
   ]
  },
  {
   "cell_type": "code",
   "execution_count": 90,
   "id": "d59d3fc0-d35c-49fc-8949-1718192f0b79",
   "metadata": {},
   "outputs": [
    {
     "data": {
      "text/plain": [
       "0.457199738350468"
      ]
     },
     "execution_count": 90,
     "metadata": {},
     "output_type": "execute_result"
    }
   ],
   "source": [
    "# Traversing our array to grab a single value (notice below it is the first value)\n",
    "singleval"
   ]
  },
  {
   "cell_type": "code",
   "execution_count": 92,
   "id": "da30c72e-5547-4c4c-8502-44f6643b84f7",
   "metadata": {},
   "outputs": [
    {
     "data": {
      "text/plain": [
       "array([[[0.45719974, 0.24235865, 0.50607585, 0.9847511 ],\n",
       "        [0.42633865, 0.94190729, 0.01475145, 0.13405524],\n",
       "        [0.99041946, 0.79143832, 0.9056691 , 0.63011621]],\n",
       "\n",
       "       [[0.52990238, 0.39527117, 0.63000086, 0.37260898],\n",
       "        [0.79467492, 0.23141782, 0.32021793, 0.16320952],\n",
       "        [0.75065886, 0.56899016, 0.04974044, 0.79833223]]])"
      ]
     },
     "execution_count": 92,
     "metadata": {},
     "output_type": "execute_result"
    }
   ],
   "source": [
    "# Pull all of the data in order to see from the data frame what value we retrieved\n",
    "data"
   ]
  },
  {
   "cell_type": "markdown",
   "id": "d6fd360f-b404-443f-8ff1-6a8852f8acb3",
   "metadata": {},
   "source": [
    "## 3. Update"
   ]
  },
  {
   "cell_type": "code",
   "execution_count": 98,
   "id": "aee14504-4755-4e5c-91b9-78a951f040b8",
   "metadata": {},
   "outputs": [],
   "source": [
    "list1 = np.random.rand(10)\n",
    "list2 = np.random.rand(10)"
   ]
  },
  {
   "cell_type": "code",
   "execution_count": 100,
   "id": "7cc16a34-3ef6-41b5-9649-7bcb2941c534",
   "metadata": {},
   "outputs": [
    {
     "data": {
      "text/plain": [
       "array([0.10877856, 0.65846502, 0.5288336 , 0.28578655, 0.42979692,\n",
       "       0.44814848, 0.54268935, 0.72143275, 0.45359568, 0.01843321])"
      ]
     },
     "execution_count": 100,
     "metadata": {},
     "output_type": "execute_result"
    }
   ],
   "source": [
    "list2"
   ]
  },
  {
   "cell_type": "code",
   "execution_count": 102,
   "id": "27a2b4be-e824-440d-b515-50dcb46f5aa5",
   "metadata": {},
   "outputs": [],
   "source": [
    "# Basic Maths\n",
    "add = np.add(list1, list2)\n",
    "sub = np.subtract(list1, list2)\n",
    "div = np.divide(list1, list2)\n",
    "mult = np.multiply(list1, list2)\n",
    "dot = np.dot(list1, list2) # Multiplies all values and aggregates the result for a 'dot product' "
   ]
  },
  {
   "cell_type": "code",
   "execution_count": 106,
   "id": "c894b6a2-192e-47b9-9667-aadc75151938",
   "metadata": {},
   "outputs": [
    {
     "data": {
      "text/plain": [
       "2.790485148967229"
      ]
     },
     "execution_count": 106,
     "metadata": {},
     "output_type": "execute_result"
    }
   ],
   "source": [
    "# Now we can call on each of these as so, in order to see the results of these operations\n",
    "dot"
   ]
  },
  {
   "cell_type": "code",
   "execution_count": 112,
   "id": "79c27c78-70e1-4814-8850-002e7356557e",
   "metadata": {},
   "outputs": [],
   "source": [
    "# Statistical Functions\n",
    "sqrt = np.sqrt(25) # Square Root\n",
    "ab = np.abs(-2) # Absolute Value\n",
    "power = np.power(2,7) # To the Power of X\n",
    "log = np.log(25) # Logarithm\n",
    "exp = ([2,3]) # Exponential\n",
    "mins = np.min(list1) # Minimum\n",
    "maxs = np.max(list1) # Maximum"
   ]
  },
  {
   "cell_type": "code",
   "execution_count": 116,
   "id": "c68e6ea3-9b36-4114-b5de-09104ed08f27",
   "metadata": {},
   "outputs": [
    {
     "data": {
      "text/plain": [
       "5.0"
      ]
     },
     "execution_count": 116,
     "metadata": {},
     "output_type": "execute_result"
    }
   ],
   "source": [
    "# Now we can call on each of these as so, in order to see the results of these operations\n",
    "sqrt"
   ]
  },
  {
   "cell_type": "code",
   "execution_count": 118,
   "id": "09447eb1-e73b-460a-a95f-5adf139e7630",
   "metadata": {},
   "outputs": [
    {
     "data": {
      "text/plain": [
       "array([[[0.45719974, 0.24235865, 0.50607585, 0.9847511 ],\n",
       "        [0.42633865, 0.94190729, 0.01475145, 0.13405524],\n",
       "        [0.99041946, 0.79143832, 0.9056691 , 0.63011621]],\n",
       "\n",
       "       [[0.52990238, 0.39527117, 0.63000086, 0.37260898],\n",
       "        [0.79467492, 0.23141782, 0.32021793, 0.16320952],\n",
       "        [0.75065886, 0.56899016, 0.04974044, 0.79833223]]])"
      ]
     },
     "execution_count": 118,
     "metadata": {},
     "output_type": "execute_result"
    }
   ],
   "source": [
    "# See the set of values now for the next piece->\n",
    "data"
   ]
  },
  {
   "cell_type": "code",
   "execution_count": 120,
   "id": "23365432-3150-4f1f-8b3c-ad0345fd8527",
   "metadata": {},
   "outputs": [],
   "source": [
    "# Changing values in an array\n",
    "data[0][0][0] = 700"
   ]
  },
  {
   "cell_type": "code",
   "execution_count": 122,
   "id": "29e2bb90-39d4-403a-b5c0-55e425a4251e",
   "metadata": {},
   "outputs": [
    {
     "data": {
      "text/plain": [
       "array([[[7.00000000e+02, 2.42358651e-01, 5.06075849e-01, 9.84751100e-01],\n",
       "        [4.26338654e-01, 9.41907286e-01, 1.47514518e-02, 1.34055242e-01],\n",
       "        [9.90419459e-01, 7.91438323e-01, 9.05669103e-01, 6.30116208e-01]],\n",
       "\n",
       "       [[5.29902378e-01, 3.95271169e-01, 6.30000858e-01, 3.72608980e-01],\n",
       "        [7.94674922e-01, 2.31417823e-01, 3.20217930e-01, 1.63209523e-01],\n",
       "        [7.50658862e-01, 5.68990162e-01, 4.97404377e-02, 7.98332228e-01]]])"
      ]
     },
     "execution_count": 122,
     "metadata": {},
     "output_type": "execute_result"
    }
   ],
   "source": [
    "# Now you can see where the first value is, it is now equal to the set value\n",
    "data"
   ]
  },
  {
   "cell_type": "code",
   "execution_count": 124,
   "id": "bdafc5c7-b2b9-4e13-9702-80c9a9b9a791",
   "metadata": {},
   "outputs": [
    {
     "data": {
      "text/plain": [
       "array([[[2.42358651e-01, 5.06075849e-01, 9.84751100e-01, 7.00000000e+02],\n",
       "        [1.47514518e-02, 1.34055242e-01, 4.26338654e-01, 9.41907286e-01],\n",
       "        [6.30116208e-01, 7.91438323e-01, 9.05669103e-01, 9.90419459e-01]],\n",
       "\n",
       "       [[3.72608980e-01, 3.95271169e-01, 5.29902378e-01, 6.30000858e-01],\n",
       "        [1.63209523e-01, 2.31417823e-01, 3.20217930e-01, 7.94674922e-01],\n",
       "        [4.97404377e-02, 5.68990162e-01, 7.50658862e-01, 7.98332228e-01]]])"
      ]
     },
     "execution_count": 124,
     "metadata": {},
     "output_type": "execute_result"
    }
   ],
   "source": [
    "# Sorting data in an array\n",
    "data.sort()\n",
    "data"
   ]
  },
  {
   "cell_type": "code",
   "execution_count": 126,
   "id": "73f14181-3576-4f50-b0fe-2dc1fb6c2486",
   "metadata": {},
   "outputs": [
    {
     "name": "stdout",
     "output_type": "stream",
     "text": [
      "(2, 3, 4)\n"
     ]
    }
   ],
   "source": [
    "# Sometimes when working with TensorFlow or Keras, you need to reshape an array. There is a reshape method for this.\n",
    "print(data.shape)"
   ]
  },
  {
   "cell_type": "code",
   "execution_count": 131,
   "id": "57a024a2-8ea3-4df5-8c85-9901faec9cbb",
   "metadata": {},
   "outputs": [
    {
     "data": {
      "text/plain": [
       "(2, 2, 6)"
      ]
     },
     "execution_count": 131,
     "metadata": {},
     "output_type": "execute_result"
    }
   ],
   "source": [
    "# We can grab our array, use the reshape method, and pass through the shape we wanted\n",
    "data = data.reshape((2,2,-1))\n",
    "data.shape"
   ]
  },
  {
   "cell_type": "code",
   "execution_count": 135,
   "id": "33be806c-88f8-4b17-ba3b-9d2220e23079",
   "metadata": {},
   "outputs": [
    {
     "name": "stdout",
     "output_type": "stream",
     "text": [
      "[0. 0. 0. 0. 0. 0. 0. 0.]\n",
      "[0. 0. 0. 0. 0. 0. 0. 0. 3. 4.]\n"
     ]
    }
   ],
   "source": [
    "# 8 Differnet values (zeroes) in this array\n",
    "zeroes = np.zeros((8))\n",
    "print(zeroes)\n",
    "\n",
    "# Adding values to the array, append method\n",
    "zeroes = np.append(zeroes, [3,4])\n",
    "print(zeroes)"
   ]
  },
  {
   "cell_type": "code",
   "execution_count": 137,
   "id": "339f0d66-7de7-414d-b475-06a3d63e7eaa",
   "metadata": {},
   "outputs": [
    {
     "name": "stdout",
     "output_type": "stream",
     "text": [
      "[0. 0. 1. 0. 0. 0. 0. 0. 0. 3. 4.]\n"
     ]
    }
   ],
   "source": [
    "# Inserting values in specific places, insert method\n",
    "zeroes = np.insert(zeroes, 2, 1)\n",
    "print(zeroes)"
   ]
  },
  {
   "cell_type": "markdown",
   "id": "df6d6ca5-8cc3-41cc-89e0-ebbcb321ef02",
   "metadata": {},
   "source": [
    "## 4. Delete"
   ]
  },
  {
   "cell_type": "code",
   "execution_count": 139,
   "id": "635d5349-9791-458b-92b6-3cf28df2a8bd",
   "metadata": {},
   "outputs": [
    {
     "data": {
      "text/plain": [
       "array([[[2.42358651e-01, 5.06075849e-01, 9.84751100e-01, 7.00000000e+02,\n",
       "         1.47514518e-02, 1.34055242e-01],\n",
       "        [4.26338654e-01, 9.41907286e-01, 6.30116208e-01, 7.91438323e-01,\n",
       "         9.05669103e-01, 9.90419459e-01]],\n",
       "\n",
       "       [[3.72608980e-01, 3.95271169e-01, 5.29902378e-01, 6.30000858e-01,\n",
       "         1.63209523e-01, 2.31417823e-01],\n",
       "        [3.20217930e-01, 7.94674922e-01, 4.97404377e-02, 5.68990162e-01,\n",
       "         7.50658862e-01, 7.98332228e-01]]])"
      ]
     },
     "execution_count": 139,
     "metadata": {},
     "output_type": "execute_result"
    }
   ],
   "source": [
    "# Calling data to compare when we start deleting things\n",
    "data"
   ]
  },
  {
   "cell_type": "code",
   "execution_count": 141,
   "id": "f9f01436-eddd-4371-8ff6-462cde032bc1",
   "metadata": {},
   "outputs": [
    {
     "data": {
      "text/plain": [
       "array([[[0.42633865, 0.94190729, 0.63011621, 0.79143832, 0.9056691 ,\n",
       "         0.99041946]],\n",
       "\n",
       "       [[0.32021793, 0.79467492, 0.04974044, 0.56899016, 0.75065886,\n",
       "         0.79833223]]])"
      ]
     },
     "execution_count": 141,
     "metadata": {},
     "output_type": "execute_result"
    }
   ],
   "source": [
    "# How we delete different segments of arrays. Specifying we will delete a row, not a column here:\n",
    "np.delete(data, 0, axis=1)"
   ]
  },
  {
   "cell_type": "code",
   "execution_count": 146,
   "id": "422c9f07-0305-43cd-b6ef-e83bc08b1fc4",
   "metadata": {},
   "outputs": [],
   "source": [
    "# We can save our arrays with the np.save function, that creates a file under the same directory as our Jupyter notebook\n",
    "np.save(\"new array\", data)"
   ]
  },
  {
   "attachments": {
    "d31f11fc-4943-452d-be54-3cf835789977.png": {
     "image/png": "[encoded data removed]"
    }
   },
   "cell_type": "markdown",
   "id": "93e20605-f3f3-4223-a673-4948ee893de0",
   "metadata": {},
   "source": [
    "![image.png](attachment:d31f11fc-4943-452d-be54-3cf835789977.png)"
   ]
  },
  {
   "cell_type": "code",
   "execution_count": 148,
   "id": "ef0144c2-d528-4607-b071-71faa8c8676b",
   "metadata": {},
   "outputs": [],
   "source": [
    "# If we wanted to use that file we could load it\n",
    "test = np.load(\"new array.npy\") # reloading from memory"
   ]
  }
 ],
 "metadata": {
  "kernelspec": {
   "display_name": "Python [conda env:base] *",
   "language": "python",
   "name": "conda-base-py"
  },
  "language_info": {
   "codemirror_mode": {
    "name": "ipython",
    "version": 3
   },
   "file_extension": ".py",
   "mimetype": "text/x-python",
   "name": "python",
   "nbconvert_exporter": "python",
   "pygments_lexer": "ipython3",
   "version": "3.12.7"
  }
 },
 "nbformat": 4,
 "nbformat_minor": 5
}
