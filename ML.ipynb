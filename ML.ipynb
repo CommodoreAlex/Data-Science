{
 "cells": [
  {
   "cell_type": "markdown",
   "id": "15ab6c5a-6cb5-46c7-9fd8-86eefb731f1d",
   "metadata": {},
   "source": [
    "# Customer Churn Prediction Project Overview\n",
    "\n",
    "## Project Goal\n",
    "Predict customer churn using machine learning models with the Telco Customer Churn Dataset from Kaggle.\n",
    "\n",
    "## Dataset\n",
    "[Telco Customer Churn Dataset](https://www.kaggle.com/datasets/blastchar/telco-customer-churn)\n",
    "\n",
    "## Why This Dataset?\n",
    "- Binary classification: Predict whether a customer will churn (Yes/No).  \n",
    "- Feature variety: Includes numerical (tenure, monthly charges) and categorical (contract type, payment method) data.  \n",
    "- Real-world relevance: Common in telecom, banking, and SaaS industries.\n",
    "\n",
    "## Project Workflow\n",
    "\n",
    "### 1. Load & Explore the Data\n",
    "- Read the CSV with Pandas.\n",
    "- Check for missing values (`df.isnull().sum()`).\n",
    "- Visualize churn distribution (bar charts, histograms).\n",
    "\n",
    "### 2. Data Preprocessing\n",
    "- Handle missing values (fill with zero or drop).\n",
    "- Convert categorical data into numerical (One-Hot Encoding).\n",
    "- Scale numerical features with StandardScaler.\n",
    "\n",
    "### 3. Train-Test Split\n",
    "```python\n",
    "from sklearn.model_selection import train_test_split\n",
    "X_train, X_test, y_train, y_test = train_test_split(X, y, test_size=0.2, random_state=42, stratify=y)\n",
    "```\n",
    "\n",
    "### 4. Model Development\n",
    "Evaluate multiple models:\n",
    "- Logistic Regression (Baseline)\n",
    "- Random Forest\n",
    "- Gradient Boosting (XGBoost)\n",
    "\n",
    "### 5. Model Evaluation\n",
    "- Metrics: Accuracy, Precision, Recall, F1-Score, ROC-AUC.\n",
    "- Visualizations: Confusion Matrix, ROC Curve.\n",
    "\n",
    "### 6. Model Evaluation\n",
    "- Fine-tune models and optimize hyperparameters.\n",
    "- Implement feature engineering techniques.\n",
    "- Explore deployment options for local use (e.g., saving models with joblib).\n",
    "\n",
    "## Expected Outcomes\n",
    "- Identify key factors contributing to customer churn.\n",
    "- Develop a machine learning model with high predictive performance.\n",
    "\n",
    "## Tools & Technologies\n",
    "- Python: Pandas, NumPy, Scikit-learn, Matplotlib, Seaborn, XGBoost, \n",
    "- Jupyter Notebook for interactive exploration and visualization.\n",
    "- Scikit-learn for its strenght in classification, regression, clustering, and dimensionality reduction.\n",
    "---"
   ]
  },
  {
   "cell_type": "markdown",
   "id": "d8dddcb0-68fb-41ed-89a3-c888e6d0c10b",
   "metadata": {},
   "source": [
    "### 1) Beginning with Exploratory Data Analysis"
   ]
  },
  {
   "cell_type": "code",
   "execution_count": 3,
   "id": "087fd077-a523-4b42-bf4e-a46b51032582",
   "metadata": {},
   "outputs": [
    {
     "name": "stdout",
     "output_type": "stream",
     "text": [
      "<class 'pandas.core.frame.DataFrame'>\n",
      "RangeIndex: 7043 entries, 0 to 7042\n",
      "Data columns (total 21 columns):\n",
      " #   Column            Non-Null Count  Dtype  \n",
      "---  ------            --------------  -----  \n",
      " 0   customerID        7043 non-null   object \n",
      " 1   gender            7043 non-null   object \n",
      " 2   SeniorCitizen     7043 non-null   int64  \n",
      " 3   Partner           7043 non-null   object \n",
      " 4   Dependents        7043 non-null   object \n",
      " 5   tenure            7043 non-null   int64  \n",
      " 6   PhoneService      7043 non-null   object \n",
      " 7   MultipleLines     7043 non-null   object \n",
      " 8   InternetService   7043 non-null   object \n",
      " 9   OnlineSecurity    7043 non-null   object \n",
      " 10  OnlineBackup      7043 non-null   object \n",
      " 11  DeviceProtection  7043 non-null   object \n",
      " 12  TechSupport       7043 non-null   object \n",
      " 13  StreamingTV       7043 non-null   object \n",
      " 14  StreamingMovies   7043 non-null   object \n",
      " 15  Contract          7043 non-null   object \n",
      " 16  PaperlessBilling  7043 non-null   object \n",
      " 17  PaymentMethod     7043 non-null   object \n",
      " 18  MonthlyCharges    7043 non-null   float64\n",
      " 19  TotalCharges      7043 non-null   object \n",
      " 20  Churn             7043 non-null   object \n",
      "dtypes: float64(1), int64(2), object(18)\n",
      "memory usage: 1.1+ MB\n"
     ]
    },
    {
     "data": {
      "text/html": [
       "<div>\n",
       "<style scoped>\n",
       "    .dataframe tbody tr th:only-of-type {\n",
       "        vertical-align: middle;\n",
       "    }\n",
       "\n",
       "    .dataframe tbody tr th {\n",
       "        vertical-align: top;\n",
       "    }\n",
       "\n",
       "    .dataframe thead th {\n",
       "        text-align: right;\n",
       "    }\n",
       "</style>\n",
       "<table border=\"1\" class=\"dataframe\">\n",
       "  <thead>\n",
       "    <tr style=\"text-align: right;\">\n",
       "      <th></th>\n",
       "      <th>customerID</th>\n",
       "      <th>gender</th>\n",
       "      <th>SeniorCitizen</th>\n",
       "      <th>Partner</th>\n",
       "      <th>Dependents</th>\n",
       "      <th>tenure</th>\n",
       "      <th>PhoneService</th>\n",
       "      <th>MultipleLines</th>\n",
       "      <th>InternetService</th>\n",
       "      <th>OnlineSecurity</th>\n",
       "      <th>...</th>\n",
       "      <th>DeviceProtection</th>\n",
       "      <th>TechSupport</th>\n",
       "      <th>StreamingTV</th>\n",
       "      <th>StreamingMovies</th>\n",
       "      <th>Contract</th>\n",
       "      <th>PaperlessBilling</th>\n",
       "      <th>PaymentMethod</th>\n",
       "      <th>MonthlyCharges</th>\n",
       "      <th>TotalCharges</th>\n",
       "      <th>Churn</th>\n",
       "    </tr>\n",
       "  </thead>\n",
       "  <tbody>\n",
       "    <tr>\n",
       "      <th>0</th>\n",
       "      <td>7590-VHVEG</td>\n",
       "      <td>Female</td>\n",
       "      <td>0</td>\n",
       "      <td>Yes</td>\n",
       "      <td>No</td>\n",
       "      <td>1</td>\n",
       "      <td>No</td>\n",
       "      <td>No phone service</td>\n",
       "      <td>DSL</td>\n",
       "      <td>No</td>\n",
       "      <td>...</td>\n",
       "      <td>No</td>\n",
       "      <td>No</td>\n",
       "      <td>No</td>\n",
       "      <td>No</td>\n",
       "      <td>Month-to-month</td>\n",
       "      <td>Yes</td>\n",
       "      <td>Electronic check</td>\n",
       "      <td>29.85</td>\n",
       "      <td>29.85</td>\n",
       "      <td>No</td>\n",
       "    </tr>\n",
       "    <tr>\n",
       "      <th>1</th>\n",
       "      <td>5575-GNVDE</td>\n",
       "      <td>Male</td>\n",
       "      <td>0</td>\n",
       "      <td>No</td>\n",
       "      <td>No</td>\n",
       "      <td>34</td>\n",
       "      <td>Yes</td>\n",
       "      <td>No</td>\n",
       "      <td>DSL</td>\n",
       "      <td>Yes</td>\n",
       "      <td>...</td>\n",
       "      <td>Yes</td>\n",
       "      <td>No</td>\n",
       "      <td>No</td>\n",
       "      <td>No</td>\n",
       "      <td>One year</td>\n",
       "      <td>No</td>\n",
       "      <td>Mailed check</td>\n",
       "      <td>56.95</td>\n",
       "      <td>1889.5</td>\n",
       "      <td>No</td>\n",
       "    </tr>\n",
       "    <tr>\n",
       "      <th>2</th>\n",
       "      <td>3668-QPYBK</td>\n",
       "      <td>Male</td>\n",
       "      <td>0</td>\n",
       "      <td>No</td>\n",
       "      <td>No</td>\n",
       "      <td>2</td>\n",
       "      <td>Yes</td>\n",
       "      <td>No</td>\n",
       "      <td>DSL</td>\n",
       "      <td>Yes</td>\n",
       "      <td>...</td>\n",
       "      <td>No</td>\n",
       "      <td>No</td>\n",
       "      <td>No</td>\n",
       "      <td>No</td>\n",
       "      <td>Month-to-month</td>\n",
       "      <td>Yes</td>\n",
       "      <td>Mailed check</td>\n",
       "      <td>53.85</td>\n",
       "      <td>108.15</td>\n",
       "      <td>Yes</td>\n",
       "    </tr>\n",
       "    <tr>\n",
       "      <th>3</th>\n",
       "      <td>7795-CFOCW</td>\n",
       "      <td>Male</td>\n",
       "      <td>0</td>\n",
       "      <td>No</td>\n",
       "      <td>No</td>\n",
       "      <td>45</td>\n",
       "      <td>No</td>\n",
       "      <td>No phone service</td>\n",
       "      <td>DSL</td>\n",
       "      <td>Yes</td>\n",
       "      <td>...</td>\n",
       "      <td>Yes</td>\n",
       "      <td>Yes</td>\n",
       "      <td>No</td>\n",
       "      <td>No</td>\n",
       "      <td>One year</td>\n",
       "      <td>No</td>\n",
       "      <td>Bank transfer (automatic)</td>\n",
       "      <td>42.30</td>\n",
       "      <td>1840.75</td>\n",
       "      <td>No</td>\n",
       "    </tr>\n",
       "    <tr>\n",
       "      <th>4</th>\n",
       "      <td>9237-HQITU</td>\n",
       "      <td>Female</td>\n",
       "      <td>0</td>\n",
       "      <td>No</td>\n",
       "      <td>No</td>\n",
       "      <td>2</td>\n",
       "      <td>Yes</td>\n",
       "      <td>No</td>\n",
       "      <td>Fiber optic</td>\n",
       "      <td>No</td>\n",
       "      <td>...</td>\n",
       "      <td>No</td>\n",
       "      <td>No</td>\n",
       "      <td>No</td>\n",
       "      <td>No</td>\n",
       "      <td>Month-to-month</td>\n",
       "      <td>Yes</td>\n",
       "      <td>Electronic check</td>\n",
       "      <td>70.70</td>\n",
       "      <td>151.65</td>\n",
       "      <td>Yes</td>\n",
       "    </tr>\n",
       "  </tbody>\n",
       "</table>\n",
       "<p>5 rows × 21 columns</p>\n",
       "</div>"
      ],
      "text/plain": [
       "   customerID  gender  SeniorCitizen Partner Dependents  tenure PhoneService  \\\n",
       "0  7590-VHVEG  Female              0     Yes         No       1           No   \n",
       "1  5575-GNVDE    Male              0      No         No      34          Yes   \n",
       "2  3668-QPYBK    Male              0      No         No       2          Yes   \n",
       "3  7795-CFOCW    Male              0      No         No      45           No   \n",
       "4  9237-HQITU  Female              0      No         No       2          Yes   \n",
       "\n",
       "      MultipleLines InternetService OnlineSecurity  ... DeviceProtection  \\\n",
       "0  No phone service             DSL             No  ...               No   \n",
       "1                No             DSL            Yes  ...              Yes   \n",
       "2                No             DSL            Yes  ...               No   \n",
       "3  No phone service             DSL            Yes  ...              Yes   \n",
       "4                No     Fiber optic             No  ...               No   \n",
       "\n",
       "  TechSupport StreamingTV StreamingMovies        Contract PaperlessBilling  \\\n",
       "0          No          No              No  Month-to-month              Yes   \n",
       "1          No          No              No        One year               No   \n",
       "2          No          No              No  Month-to-month              Yes   \n",
       "3         Yes          No              No        One year               No   \n",
       "4          No          No              No  Month-to-month              Yes   \n",
       "\n",
       "               PaymentMethod MonthlyCharges  TotalCharges Churn  \n",
       "0           Electronic check          29.85         29.85    No  \n",
       "1               Mailed check          56.95        1889.5    No  \n",
       "2               Mailed check          53.85        108.15   Yes  \n",
       "3  Bank transfer (automatic)          42.30       1840.75    No  \n",
       "4           Electronic check          70.70        151.65   Yes  \n",
       "\n",
       "[5 rows x 21 columns]"
      ]
     },
     "execution_count": 3,
     "metadata": {},
     "output_type": "execute_result"
    }
   ],
   "source": [
    "# Importing pandas\n",
    "import pandas as pd\n",
    "\n",
    "# Loading the dataset\n",
    "df =  pd.read_csv(\"WA_Fn-UseC_-Telco-Customer-Churn.csv\")\n",
    "\n",
    "# Displaying basic information to learn about the columns in our dataset\n",
    "df.info()\n",
    "df.head()"
   ]
  },
  {
   "cell_type": "code",
   "execution_count": 4,
   "id": "dee375e1-96dc-4822-994c-a966e58f461d",
   "metadata": {},
   "outputs": [
    {
     "data": {
      "text/plain": [
       "customerID          0\n",
       "gender              0\n",
       "SeniorCitizen       0\n",
       "Partner             0\n",
       "Dependents          0\n",
       "tenure              0\n",
       "PhoneService        0\n",
       "MultipleLines       0\n",
       "InternetService     0\n",
       "OnlineSecurity      0\n",
       "OnlineBackup        0\n",
       "DeviceProtection    0\n",
       "TechSupport         0\n",
       "StreamingTV         0\n",
       "StreamingMovies     0\n",
       "Contract            0\n",
       "PaperlessBilling    0\n",
       "PaymentMethod       0\n",
       "MonthlyCharges      0\n",
       "TotalCharges        0\n",
       "Churn               0\n",
       "dtype: int64"
      ]
     },
     "execution_count": 4,
     "metadata": {},
     "output_type": "execute_result"
    }
   ],
   "source": [
    "# Checking for missing values (finding none)\n",
    "df.isnull().sum()\n",
    "\n",
    "# Dropping misisng values if they exist to avoid skewed data\n",
    "#df = df.dropna()\n",
    "\n",
    "# WE do not need to create a new data frame to work with from here because there were no null values"
   ]
  },
  {
   "cell_type": "code",
   "execution_count": 5,
   "id": "178d163a-5ec6-4606-8ebe-856b99671fce",
   "metadata": {},
   "outputs": [
    {
     "data": {
      "image/png": "[encoded data removed]",
      "text/plain": [
       "<Figure size 600x400 with 1 Axes>"
      ]
     },
     "metadata": {},
     "output_type": "display_data"
    }
   ],
   "source": [
    "# Importing visualization libraries\n",
    "import matplotlib.pyplot as plt\n",
    "import seaborn as sns\n",
    "\n",
    "# Visualizing the amount of employee turnover (churn)\n",
    "plt.figure(figsize=(6,4))\n",
    "sns.countplot(x='Churn', data=df)\n",
    "plt.title(\"Customer Churn Distribution\")\n",
    "plt.show()"
   ]
  },
  {
   "cell_type": "markdown",
   "id": "e7d95279-b887-4362-b96e-232f5de9be9c",
   "metadata": {},
   "source": [
    "# 2) Data Preprocessing"
   ]
  },
  {
   "cell_type": "code",
   "execution_count": 7,
   "id": "e92f4077-5441-4aa5-9c38-51951709d7c9",
   "metadata": {},
   "outputs": [
    {
     "name": "stdout",
     "output_type": "stream",
     "text": [
      "Index(['customerID', 'gender', 'Partner', 'Dependents', 'PhoneService',\n",
      "       'MultipleLines', 'InternetService', 'OnlineSecurity', 'OnlineBackup',\n",
      "       'DeviceProtection', 'TechSupport', 'StreamingTV', 'StreamingMovies',\n",
      "       'Contract', 'PaperlessBilling', 'PaymentMethod', 'TotalCharges',\n",
      "       'Churn'],\n",
      "      dtype='object')\n"
     ]
    }
   ],
   "source": [
    "# Machine learning models require numerical inputs, so we need to encode categorical columns\n",
    "categorical_cols = df.select_dtypes(include=['object']).columns\n",
    "print(categorical_cols)"
   ]
  },
  {
   "cell_type": "code",
   "execution_count": 8,
   "id": "8d7fc1a0-5348-4fe7-afe3-80d20f5e651c",
   "metadata": {},
   "outputs": [],
   "source": [
    "# Applying one-hot encoding with pd.get_dummies(), to convert categorical values into binary 0/1 columns\n",
    "df = pd.get_dummies(df, columns=['gender', 'Partner', 'Dependents', 'PhoneService', \n",
    "                                 'MultipleLines', 'InternetService', 'OnlineSecurity', \n",
    "                                 'OnlineBackup', 'DeviceProtection', 'TechSupport', \n",
    "                                 'StreamingTV', 'StreamingMovies', 'Contract', \n",
    "                                 'PaperlessBilling', 'PaymentMethod'], drop_first=True)"
   ]
  },
  {
   "cell_type": "code",
   "execution_count": 9,
   "id": "2f233ecf-a619-448e-a65d-23e55f05f784",
   "metadata": {},
   "outputs": [],
   "source": [
    "# Some datasets store numeric values as strings. Let’s check and convert:\n",
    "df['TotalCharges'] = pd.to_numeric(df['TotalCharges'], errors='coerce')\n",
    "df = df.fillna(df['TotalCharges'].median()) # Fill any NaN values with median as it is less affected by outliers than the mean"
   ]
  },
  {
   "cell_type": "code",
   "execution_count": 10,
   "id": "263b43d2-726a-4da4-8059-864ba22d4dcf",
   "metadata": {},
   "outputs": [],
   "source": [
    "# Importing required libraries for consistent scale \n",
    "from sklearn.preprocessing import StandardScaler\n",
    "\n",
    "scaler = StandardScaler() # Normalizes numerical columns by subtracting the mean and dividing by the standard deviation\n",
    "num_cols = ['tenure', 'MonthlyCharges', 'TotalCharges']\n",
    "df[num_cols] = scaler.fit_transform(df[num_cols]) # Applies scaling to the selected columns"
   ]
  },
  {
   "cell_type": "code",
   "execution_count": 11,
   "id": "25e5dd23-6ba5-40bc-bf6a-72563f80f74e",
   "metadata": {},
   "outputs": [],
   "source": [
    "# Defining features and target variable (the outcome we are trying to predict in a machine learning model)\n",
    "X = df.drop(columns=['customerID', 'Churn']) # Drop non-relevant columns; this one is not useful for prediction, just an identifier\n",
    "y = df['Churn'].map({'Yes': 1, 'No': 0}) # Converts target variable to binary; this needs to be converted to a numeric format for classification"
   ]
  },
  {
   "cell_type": "markdown",
   "id": "fbdfc4b2-dc56-47e9-be5e-9e42ac23b0af",
   "metadata": {},
   "source": [
    "# 3) Train-Test Split and Model Development\n",
    "Before training the model we need to split the dataset into a training set (used to train the model) and a test set (used to evaluate performance on unseen data).\n",
    "\n",
    "Where we are using a test size of 20% (0.2), random state of 42 (ensuring reproducability), and Stratify equal to y (maintaining the same churn distribution in both sets)"
   ]
  },
  {
   "cell_type": "code",
   "execution_count": 13,
   "id": "ffbf711b-6d35-4d8f-b604-05beeeb4493f",
   "metadata": {},
   "outputs": [],
   "source": [
    "# Adding our required imports for sklearn\n",
    "from sklearn.model_selection import train_test_split\n",
    "\n",
    "# Split dataset into 80% training and 20% testing\n",
    "X_train, X_test, y_train, y_test = train_test_split(X, y, test_size=0.2, random_state=42, stratify=y)"
   ]
  },
  {
   "cell_type": "markdown",
   "id": "ece1f0d4-c596-4a3d-be84-163629b6e96a",
   "metadata": {},
   "source": [
    "#### Train a Logistic Regression Model\n",
    "Logistic regression is a machine learning algorithm used for classification tasks. It predicts the probability that an input belongs to a particular class (e.g., yes/no, spam/not spam) by applying a sigmoid function to a weighted sum of input features. If the probability is above a threshold (usually 0.5), it assigns the input to one class; otherwise, it assigns it to the other."
   ]
  },
  {
   "cell_type": "code",
   "execution_count": 15,
   "id": "81e3452a-00b9-4e99-a7c6-404327bf24b3",
   "metadata": {},
   "outputs": [
    {
     "name": "stdout",
     "output_type": "stream",
     "text": [
      "Logistic Regression Accuracy: 0.8048\n"
     ]
    }
   ],
   "source": [
    "# Importing required libraries for model development\n",
    "from sklearn.linear_model import LogisticRegression\n",
    "from sklearn.metrics import accuracy_score\n",
    "\n",
    "# Initialize and train the model\n",
    "lr_model = LogisticRegression()\n",
    "lr_model.fit(X_train, y_train)\n",
    "\n",
    "# Predict on the test set\n",
    "y_pred = lr_model.predict(X_test)\n",
    "\n",
    "# Evaluate accuracy\n",
    "accuracy = accuracy_score(y_test, y_pred)\n",
    "print(f'Logistic Regression Accuracy: {accuracy:.4f}')"
   ]
  },
  {
   "cell_type": "markdown",
   "id": "7ab60eb6-51ca-4b4f-9b88-7354325740f6",
   "metadata": {},
   "source": [
    "#### Train a Random Forest Model\n",
    "A random forest is an ensemble learning method that builds multiple decision trees using random subsets of data and features. It then combines the predictions of all trees to make a final decision, which improves accuracy and reduces overfitting."
   ]
  },
  {
   "cell_type": "code",
   "execution_count": 17,
   "id": "b121d597-228f-4840-81a8-a02aa44baa2d",
   "metadata": {},
   "outputs": [
    {
     "name": "stdout",
     "output_type": "stream",
     "text": [
      "Random Forest Accuracy: 0.7878\n"
     ]
    }
   ],
   "source": [
    "# Importing required libraries for model development\n",
    "# RandomForestClassifier is imported from the sklearn.ensemble module for classification tasks\n",
    "from sklearn.ensemble import RandomForestClassifier\n",
    "\n",
    "# Initialize the RandomForestClassifier with the following parameters:\n",
    "# - n_estimators=100: sets the number of trees in the forest to 100.\n",
    "# - random_state=42: ensures reproducibility of the results by fixing the random seed.\n",
    "rf_model = RandomForestClassifier(n_estimators=100, random_state=42)\n",
    "\n",
    "# Fit the Random Forest model to the training data (X_train and y_train)\n",
    "# This trains the model to learn patterns from the training data\n",
    "rf_model.fit(X_train, y_train)\n",
    "\n",
    "# Make predictions using the trained model on the test data (X_test)\n",
    "y_pred_rf = rf_model.predict(X_test)\n",
    "\n",
    "# Calculate the accuracy of the model by comparing the predicted labels (y_pred_rf)\n",
    "# to the true labels (y_test) from the test set\n",
    "accuracy_rf = accuracy_score(y_test, y_pred_rf)\n",
    "\n",
    "# Print the accuracy of the Random Forest model, formatted to 4 decimal places\n",
    "print(f'Random Forest Accuracy: {accuracy_rf:.4f}')"
   ]
  },
  {
   "cell_type": "markdown",
   "id": "2e10385b-cced-43ff-a4ba-b8cf1ff66fa3",
   "metadata": {},
   "source": [
    "#### Train a Gradient Boosting Model\n",
    "Gradient boosting is an ensemble technique that builds decision trees sequentially, where each new tree corrects the errors of the previous one. It focuses on the hardest-to-predict examples, improving performance with each iteration."
   ]
  },
  {
   "cell_type": "code",
   "execution_count": 19,
   "id": "5aecb432-8949-4ed3-a6a1-8ccebe066a59",
   "metadata": {},
   "outputs": [
    {
     "name": "stdout",
     "output_type": "stream",
     "text": [
      "XGBoost Accuracy: 0.7821\n"
     ]
    }
   ],
   "source": [
    "#!pip install xgboost # uncomment in order to install dependency\n",
    "from xgboost import XGBClassifier  # Importing the XGBoost classifier\n",
    "\n",
    "# Initialize the XGBoost model with the following parameters:\n",
    "# - eval_metric='logloss': sets the evaluation metric to log-loss, which is commonly used for binary classification problems.\n",
    "# - random_state=42: ensures reproducibility by fixing the random seed for consistent results across different runs.\n",
    "xgb_model = XGBClassifier(eval_metric='logloss', random_state=42)\n",
    "\n",
    "# Fit the XGBoost model to the training data (X_train and y_train).\n",
    "# This trains the model to learn from the patterns in the features (X_train) and labels (y_train).\n",
    "xgb_model.fit(X_train, y_train)\n",
    "\n",
    "# Make predictions using the trained model on the test data (X_test).\n",
    "# The model will output class predictions for each test example.\n",
    "y_pred_xgb = xgb_model.predict(X_test)\n",
    "\n",
    "# Calculate the accuracy of the model by comparing the predicted labels (y_pred_xgb)\n",
    "# to the true labels (y_test) from the test set.\n",
    "accuracy_xgb = accuracy_score(y_test, y_pred_xgb)\n",
    "\n",
    "# Print the accuracy of the XGBoost model, formatted to 4 decimal places for clarity.\n",
    "# Accuracy measures the percentage of correctly predicted instances in the test set.\n",
    "print(f'XGBoost Accuracy: {accuracy_xgb:.4f}')\n"
   ]
  },
  {
   "cell_type": "markdown",
   "id": "52823f92-e3c1-4e63-8635-e1d3bf637632",
   "metadata": {},
   "source": [
    "# 4) Model Evaluation\n",
    "## We do not rely only on accuracy, we need a broader evaluation using metrics like Precision, Recall, F1-Score, and ROC-AUC\n",
    "\n",
    "**Precision:** The ratio of true positive predictions to all predicted positives. It measures how many of the predicted positives are actually correct.\n",
    "- Formula: Precision = TP / (TP + FP)\n",
    "\n",
    "**Recall:** The ratio of true positive predictions to all actual positives. It shows how many of the true positives were correctly identified by the model.\n",
    "-  Formula: Recall = TP / (TP + FN)\n",
    "\n",
    "**F1-Score:** The harmonic mean of Precision and Recall. It balances both metrics, useful when there’s an uneven class distribution.\n",
    "- Formula: F1-Score = 2 * (Precision * Recall) / (Precision + Recall)\n",
    "\n",
    "**ROC-AUC:** A measure of the model's ability to distinguish between classes. The area under the ROC curve (AUC) ranges from 0 to 1, with higher values indicating better performance.\n",
    "- Formula: Calculated based on the True Positive Rate and False Positive Rate.\n",
    "\n",
    "The breakdown:\n",
    "- True Positive (TP): Model correctly predicted a positive class. \n",
    "- True Negative (TN): Model correctly predicted a negative class. \n",
    "- False Positive (FP): Model incorrectly predicted a positive class when it was actually negative. \n",
    "- False Negative (FN): Model incorrectly predicted a negative class when it was actually positive. \n",
    "\n",
    "These metrics provide a deeper understanding of model performance, especially for imbalanced datasets, beyond just accuracy."
   ]
  },
  {
   "cell_type": "code",
   "execution_count": 21,
   "id": "c52e9793-6985-47b9-bcc8-dbeaa98efeb0",
   "metadata": {},
   "outputs": [
    {
     "name": "stdout",
     "output_type": "stream",
     "text": [
      "Logistic Regression Report:\n",
      "              precision    recall  f1-score   support\n",
      "\n",
      "           0       0.85      0.89      0.87      1035\n",
      "           1       0.66      0.56      0.60       374\n",
      "\n",
      "    accuracy                           0.80      1409\n",
      "   macro avg       0.75      0.73      0.74      1409\n",
      "weighted avg       0.80      0.80      0.80      1409\n",
      "\n",
      "Random Forest Report:\n",
      "              precision    recall  f1-score   support\n",
      "\n",
      "           0       0.83      0.89      0.86      1035\n",
      "           1       0.63      0.50      0.55       374\n",
      "\n",
      "    accuracy                           0.79      1409\n",
      "   macro avg       0.73      0.70      0.71      1409\n",
      "weighted avg       0.78      0.79      0.78      1409\n",
      "\n",
      "XGBoost Report:\n",
      "              precision    recall  f1-score   support\n",
      "\n",
      "           0       0.84      0.87      0.85      1035\n",
      "           1       0.60      0.53      0.56       374\n",
      "\n",
      "    accuracy                           0.78      1409\n",
      "   macro avg       0.72      0.70      0.71      1409\n",
      "weighted avg       0.77      0.78      0.78      1409\n",
      "\n"
     ]
    }
   ],
   "source": [
    "# Importing required libraries to create a classification report of all of the evaluation metrics mentioned above\n",
    "from sklearn.metrics import classification_report\n",
    "\n",
    "print(\"Logistic Regression Report:\")\n",
    "print(classification_report(y_test, y_pred))\n",
    "\n",
    "print(\"Random Forest Report:\")\n",
    "print(classification_report(y_test, y_pred_rf))\n",
    "\n",
    "print(\"XGBoost Report:\")\n",
    "print(classification_report(y_test, y_pred_xgb))"
   ]
  },
  {
   "cell_type": "markdown",
   "id": "0076bc8b-cfa9-46c2-9838-a9f627375608",
   "metadata": {},
   "source": [
    "##### What is a confusion matrix?\n",
    "A confusion matrix is a table used in machine learning to visually evaluate the performance of a classification model by comparing its predicted labels to the actual labels, showing how many predictions were correct and incorrect, and breaking down the results into categories like true positives, true negatives, false positives, and false negatives; essentially, it helps visualize where the model \"got confused\" between different classes. "
   ]
  },
  {
   "cell_type": "code",
   "execution_count": 23,
   "id": "859b5879-24fd-42da-aa9a-546cda9132aa",
   "metadata": {},
   "outputs": [
    {
     "data": {
      "image/png": "[encoded data removed]",
      "text/plain": [
       "<Figure size 640x480 with 2 Axes>"
      ]
     },
     "metadata": {},
     "output_type": "display_data"
    }
   ],
   "source": [
    "# Importing requirements to visualize performance with a confusion matrix\n",
    "from sklearn.metrics import confusion_matrix\n",
    "\n",
    "cm = confusion_matrix(y_test, y_pred_xgb) # Using the best model, and visualizing using matplotlib\n",
    "sns.heatmap(cm, annot=True, fmt='d', cmap='Blues', xticklabels=['No Churn', 'Churn'], yticklabels=['No Churn', 'Churn'])\n",
    "plt.xlabel('Predicted')\n",
    "plt.ylabel('Actual')\n",
    "plt.title('Confusion Matrix')\n",
    "plt.show()"
   ]
  },
  {
   "cell_type": "markdown",
   "id": "22659bfb-b215-4138-a62a-81e610f1d641",
   "metadata": {},
   "source": [
    "# 5) Compare Model Performance\n",
    "Identify the best-performing model based on precision, recall, and F1-score."
   ]
  },
  {
   "cell_type": "code",
   "execution_count": 25,
   "id": "e3b195a6-713b-4368-a545-fab199c66938",
   "metadata": {},
   "outputs": [
    {
     "name": "stdout",
     "output_type": "stream",
     "text": [
      "Precision: 0.6551724137931034, Recall: 0.5588235294117647, F1-Score: 0.6031746031746031, ROC-AUC: 0.7262716680875249\n"
     ]
    }
   ],
   "source": [
    "from sklearn.metrics import precision_score, recall_score, f1_score, roc_auc_score\n",
    "\n",
    "# Example: for each model, calculate and compare metrics\n",
    "precision = precision_score(y_test, y_pred)\n",
    "recall = recall_score(y_test, y_pred)\n",
    "f1 = f1_score(y_test, y_pred)\n",
    "roc_auc = roc_auc_score(y_test, y_pred)\n",
    "\n",
    "# Print metrics for each model\n",
    "print(f\"Precision: {precision}, Recall: {recall}, F1-Score: {f1}, ROC-AUC: {roc_auc}\")"
   ]
  },
  {
   "cell_type": "markdown",
   "id": "ad8d20ce-520e-41e7-aff1-5f1371183f21",
   "metadata": {},
   "source": [
    "# 6) Hyperparameter Tuning: Optimize the best model with GridSearchCV\n",
    "After selecting a baseline model, we can optimize its performance by tuning hyperparameters. Hyperparameters are settings that control how the model learns (e.g., tree depth, learning rate, number of estimators). We use GridSearchCV to search for the best combination of these parameters systematically.\n",
    "\n",
    "Why Tune Hyperparameters?\n",
    "\n",
    "Prevent overfitting or underfitting.\n",
    "Improve accuracy and model reliability.\n",
    "Automate selection of optimal parameters.\n",
    "Steps in Hyperparameter Tuning:\n",
    "\n",
    "Define a parameter grid with possible values.\n",
    "Use GridSearchCV to evaluate each combination with cross-validation.\n",
    "Select the best-performing model."
   ]
  },
  {
   "cell_type": "code",
   "execution_count": 45,
   "id": "708ef94f-9ed9-4722-81b0-45fb01b0f52f",
   "metadata": {},
   "outputs": [
    {
     "name": "stdout",
     "output_type": "stream",
     "text": [
      "Best Parameters: {'learning_rate': 0.1, 'max_depth': 3, 'n_estimators': 100, 'subsample': 1.0}\n"
     ]
    }
   ],
   "source": [
    "# Importing required libraries\n",
    "from sklearn.model_selection import GridSearchCV\n",
    "\n",
    "# Define parameter grid to search over\n",
    "param_grid = {\n",
    "    'n_estimators': [100, 200, 300],  # Number of trees in the model\n",
    "    'max_depth': [3, 5, 7],  # Maximum depth of trees\n",
    "    'learning_rate': [0.01, 0.1, 0.2],  # Step size at each iteration\n",
    "    'subsample': [0.8, 1.0]  # Percentage of data used per tree\n",
    "}\n",
    "\n",
    "# Initialize GridSearchCV with cross-validation (cv=5)\n",
    "grid_search = GridSearchCV(\n",
    "    XGBClassifier(eval_metric='logloss', random_state=42),  # Removed `use_label_encoder`\n",
    "    param_grid, cv=5, scoring='accuracy', n_jobs=-1\n",
    ")\n",
    "\n",
    "# Fit the model on training data\n",
    "grid_search.fit(X_train, y_train)\n",
    "\n",
    "# Display best hyperparameters\n",
    "print(\"Best Parameters:\", grid_search.best_params_)\n",
    "\n",
    "# Use the best model found\n",
    "best_xgb = grid_search.best_estimator_\n"
   ]
  },
  {
   "cell_type": "markdown",
   "id": "0c86e085-0f66-4bc9-a5cd-a05a7db831cb",
   "metadata": {},
   "source": [
    "## Evaluate the tuned model\n",
    "We need to assess how well the optimized model performs. The goal here is to ensure the model generalizes well to new data and improves the baseline model. \n",
    "\n",
    "We are evaluating accuracy (overall correctness), precision and recall(right vs wrong, false positive vs true positive), F1 Score (A balance between precision and recall for unbalanced datasets), and ROC-AUC (ability to distinguish chrun and non-churn customers, high values = high performance)."
   ]
  },
  {
   "cell_type": "code",
   "execution_count": 48,
   "id": "e33bb280-cdb4-4c4c-a94b-46ed8b4b9076",
   "metadata": {},
   "outputs": [
    {
     "name": "stdout",
     "output_type": "stream",
     "text": [
      "Optimized Model Performance:\n",
      "              precision    recall  f1-score   support\n",
      "\n",
      "           0       0.84      0.91      0.87      1035\n",
      "           1       0.66      0.52      0.58       374\n",
      "\n",
      "    accuracy                           0.80      1409\n",
      "   macro avg       0.75      0.71      0.73      1409\n",
      "weighted avg       0.79      0.80      0.79      1409\n",
      "\n"
     ]
    }
   ],
   "source": [
    "# Make predictions using the optimized model\n",
    "y_pred_tuned = best_xgb.predict(X_test)\n",
    "\n",
    "# Print classification report to assess performance\n",
    "print(\"Optimized Model Performance:\")\n",
    "print(classification_report(y_test, y_pred_tuned))"
   ]
  },
  {
   "cell_type": "markdown",
   "id": "4667447c-a265-423d-be2f-424f6d1ce835",
   "metadata": {},
   "source": [
    "# 7) Feature Importance Analysis\n",
    "Understanding which features influence predictions the most is essential for model interpretability. Feature importance helps identify the factors driving customer churn, which can lead to actionable business insights.\n",
    "\n",
    "Why Analyze Feature Importance? It improves model transparency, identifies key business drives of churn (employees leaving), and optimizes data collection through focusing on relevant features.\n",
    "\n",
    "Steps in Feature Importance Analysis:\n",
    "- Extract feature importance scores from the trained model.\n",
    "- Sort features based on their contribution to predictions.\n",
    "- Visualize results using bar plots for better interpretation."
   ]
  },
  {
   "cell_type": "code",
   "execution_count": 93,
   "id": "6ab6972b-9182-435a-8123-321139960e6c",
   "metadata": {},
   "outputs": [
    {
     "data": {
      "image/png": "[encoded data removed]",
      "text/plain": [
       "<Figure size 1000x600 with 1 Axes>"
      ]
     },
     "metadata": {},
     "output_type": "display_data"
    }
   ],
   "source": [
    "# Importing required libraries\n",
    "import numpy as np\n",
    "\n",
    "feature_importances = best_xgb.feature_importances_\n",
    "sorted_indices = np.argsort(feature_importances)[::-1]\n",
    "\n",
    "# Creating the visualization\n",
    "plt.figure(figsize=(10,6))\n",
    "sns.barplot(x=feature_importances[sorted_indices], y=X.columns[sorted_indices])\n",
    "plt.xlabel(\"Feature Importance\")\n",
    "plt.ylabel(\"Feature Name\")\n",
    "plt.title(\"XGBoost Feature Importance\")\n",
    "plt.show()"
   ]
  },
  {
   "cell_type": "markdown",
   "id": "f461e78f-0d7c-47e2-849d-111af53f2905",
   "metadata": {},
   "source": [
    "# 8) Saving the Model and Using for Predictions\n",
    "Once the model is trained and optimized, the next step is deployment. This involves saving the model and integrating it into a real-world application.\n",
    "\n",
    "Why Deploy a Model?:\n",
    "- Enable automated churn predictions on new data.\n",
    "- Integrate with business systems (e.g., CRM, dashboards).\n",
    "- Make real-time decisions to reduce customer churn.\n",
    "\n",
    "Key Deployment Steps:\n",
    "- Save the Model – Use joblib to store the trained model.\n",
    "- Load & Predict – Test the model with sample data.\n",
    "- Integration Options – Deploy via API, dashboard, or direct integration into customer systems."
   ]
  },
  {
   "cell_type": "code",
   "execution_count": 76,
   "id": "14ac5d1d-9209-445f-b494-f64773e985f9",
   "metadata": {},
   "outputs": [
    {
     "data": {
      "text/plain": [
       "['churn_prediction_model.pkl']"
      ]
     },
     "execution_count": 76,
     "metadata": {},
     "output_type": "execute_result"
    }
   ],
   "source": [
    "# Importing required libraries\n",
    "# This is a Python Library for efficiently serializing large NumPy arrays and models, and allows reusability (no retraining every time)\n",
    "import joblib\n",
    "\n",
    "# Saving the model in the project directory\n",
    "joblib.dump(best_xgb, \"churn_prediction_model.pkl\")"
   ]
  },
  {
   "cell_type": "code",
   "execution_count": 89,
   "id": "e406c8c4-decb-4930-806e-bb830c1cf84f",
   "metadata": {},
   "outputs": [],
   "source": [
    "# Load the saved model\n",
    "#model = joblib.load(\"churn_prediction_model.pkl\")\n",
    "\n",
    "# Sample customer data for prediction (values must match feature order), this will not work but just an example of what could be\n",
    "#sample_data = np.array([[10, 29.85, 300, 1, 0, 0, 1, 0, 1, 0]])  # Example input\n",
    "\n",
    "# Predict churn (0 = No, 1 = Yes)\n",
    "#prediction = model.predict(sample_data)\n",
    "#print(\"Predicted Churn:\", \"Yes\" if prediction[0] == 1 else \"No\")"
   ]
  },
  {
   "cell_type": "markdown",
   "id": "f18ff965-2627-47c7-ac50-0616549b93b6",
   "metadata": {},
   "source": [
    "# Project Conclusion"
   ]
  },
  {
   "cell_type": "markdown",
   "id": "1ffcc50c-8dc7-4b1d-a52e-f4a6839a984f",
   "metadata": {},
   "source": [
    "In this Customer Churn Prediction Project, we used machine learning to predict whether a customer would churn based on the Telco Customer Churn Dataset. The project involved exploring the data, handling missing values, and applying various preprocessing techniques like encoding categorical variables and scaling numerical features. We then trained and tested several models, including Logistic Regression, Random Forest, Gradient Boosting, and Neural Networks, to predict churn.\n",
    "\n",
    "Key takeaways from the project:\n",
    "- We identified important features that influence customer churn.\n",
    "- We built a machine learning model with good predictive performance.\n",
    "- The insights gained can help businesses, especially in telecom, improve their customer retention strategies.\n",
    "\n",
    "Next steps would involve more experimenting with feature engineering and considering ways to deploy the model for real-world use."
   ]
  }
 ],
 "metadata": {
  "kernelspec": {
   "display_name": "Python [conda env:base] *",
   "language": "python",
   "name": "conda-base-py"
  },
  "language_info": {
   "codemirror_mode": {
    "name": "ipython",
    "version": 3
   },
   "file_extension": ".py",
   "mimetype": "text/x-python",
   "name": "python",
   "nbconvert_exporter": "python",
   "pygments_lexer": "ipython3",
   "version": "3.12.7"
  }
 },
 "nbformat": 4,
 "nbformat_minor": 5
}
