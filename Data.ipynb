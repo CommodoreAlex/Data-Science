{
 "cells": [
  {
   "cell_type": "markdown",
   "id": "3e897e99-d6d1-4b15-a7e1-244ad51d4fa0",
   "metadata": {},
   "source": [
    "# Bitcoin Historical Data Visualization and Analysis with Plotly and Dash\n",
    "\n",
    "## Project Overview\n",
    "This notebook aims to explore and visualize Bitcoin historical data to uncover trends and insights in Bitcoin's price movements and trading volume over time. We will use the Bitcoin data available from the [Kaggle Bitcoin Historical Data](https://www.kaggle.com/datasets/mczielinski/bitcoin-historical-data) dataset, and leverage **Plotly** and **Dash** for creating interactive visualizations and dashboards.\n",
    "\n",
    "### Dataset Columns:\n",
    "- **Timestamp**: The time of the data point (Unix timestamp).\n",
    "- **Open**: Opening price of Bitcoin for the given time period.\n",
    "- **High**: The highest price of Bitcoin during the given time period.\n",
    "- **Low**: The lowest price of Bitcoin during the given time period.\n",
    "- **Close**: Closing price of Bitcoin for the given time period.\n",
    "- **Volume**: The trading volume of Bitcoin in the given time period.\n",
    "\n",
    "## Goals of the Analysis\n",
    "\n",
    "### 1. **Data Preprocessing and Cleaning and Exploratory Data Analysis (EDA)**\n",
    "   - **Load the dataset**: Import the dataset into a Pandas DataFrame.\n",
    "   - **Handle missing values**: Identify and address any missing data points.\n",
    "   - **Timestamp conversion**: Convert the Unix timestamps into a human-readable datetime format for easier analysis.\n",
    "   - **Summary Statistics**: Calculate summary statistics like mean, median, and standard deviation for each numeric column.\n",
    "   - **Data Distribution**: Visualize the distribution of Bitcoin prices (Open, High, Low, Close) and Volume over time.\n",
    "   - **Trends over time**: Analyze how Bitcoin's price has fluctuated over the years.\n",
    "\n",
    "### 2. **Data Visualization with Plotly**\n",
    "   - **Price Trends**: Visualize the closing price of Bitcoin over time to identify significant price changes and trends using interactive line charts.\n",
    "   - **Candlestick Chart**: Create an interactive candlestick chart to visualize the price movements (Open, High, Low, Close) for each time period.\n",
    "   - **Volume Analysis**: Visualize trading volume over time to observe patterns and identify correlations with price movements.\n",
    "   - **Price vs. Volume**: Explore the relationship between price and volume to uncover any trends or patterns.\n",
    "\n",
    "### 4. **Building Dashboards with Dash**\n",
    "   - **Dash App for Interactive Exploration**: Build a Dash app that allows users to interactively explore Bitcoin's historical data.\n",
    "     - Include dropdowns, sliders, and interactive graphs to display data and make it easy for users to filter by time range, price range, or volume.\n",
    "   - **Dynamic Updates**: Enable dynamic updates on the visualizations when users interact with the dashboard components.\n",
    "\n",
    "## Tools and Libraries\n",
    "We will be using the following libraries to read, clean, analyze, and visualize the data:\n",
    "- **Pandas**: For data manipulation and analysis.\n",
    "- **Plotly**: For creating interactive visualizations such as line charts, candlestick charts, and bar charts.\n",
    "- **Dash**: For building interactive dashboards that allow users to explore and interact with the data.\n",
    "- **NumPy**: For numerical operations.\n",
    "\n",
    "## Expected Outcomes\n",
    "By the end of this notebook, we aim to:\n",
    "1. Gain a deeper understanding of Bitcoin's price movements over time.\n",
    "2. Identify periods of high volatility, bull markets, and bear markets.\n",
    "3. Build interactive visualizations that allow us to explore Bitcoin's historical data in a meaningful way.\n",
    "4. Create a user-friendly dashboard for users to interact with and analyze the data.\n",
    "5. Provide insights into the relationship between Bitcoin price and trading volume.\n",
    "\n",
    "We will start by loading the dataset, performing initial exploration, and setting up the interactive visuals with Plotly and Dash\n",
    "\n",
    "---\n",
    "\n",
    "## **(1) Data Preprocessing and Cleaning**\n",
    "\n",
    "See below for the initial configuration in order to work with our data\n",
    "\n",
    "---"
   ]
  },
  {
   "cell_type": "code",
   "execution_count": null,
   "id": "5fa19fba-17ef-406b-8bad-d577301eeb98",
   "metadata": {},
   "outputs": [],
   "source": [
    "# Importing required modules\n",
    "import pandas as pd\n",
    "import numpy as np\n",
    "import dash # You probably need to run '!pip install dash' in a command cell if you're first-time trying to replicate this experiment\n",
    "from dash import dcc, html\n",
    "from dash.dependencies import Input, Output\n",
    "import plotly.express as px\n",
    "import plotly.graph_objects as go\n",
    "import os # Reach the directory structure\n",
    "\n",
    "# Creating the initial data frame to read data from:\n",
    "df = pd.read_csv(\"btcusd_1-min_data.csv\")\n",
    "\n",
    "# Read the data for the first time to see all data columns:\n",
    "df.info()"
   ]
  },
  {
   "cell_type": "markdown",
   "id": "20359c27-a86f-4485-95ed-eddecdb0bafa",
   "metadata": {},
   "source": [
    "#### Handle missing or null values that could skew analysis before proceeding"
   ]
  },
  {
   "cell_type": "code",
   "execution_count": null,
   "id": "dbed6866-bbb9-4f72-9f31-3602cf5c5732",
   "metadata": {},
   "outputs": [],
   "source": [
    "# Check for missing values in each column\n",
    "df.isnull().sum()\n",
    "\n",
    "# Remove rows with any missing values to create a cleaner data set\n",
    "df_cleaned = df.dropna()\n",
    "\n",
    "# Verify if there are any missing values left\n",
    "df_cleaned.isnull().sum()"
   ]
  },
  {
   "cell_type": "markdown",
   "id": "327cd75c-ec83-4f21-971c-7c61b02f0c17",
   "metadata": {},
   "source": [
    "#### Convert Unix timestamps to human-readable foramts for easier analysis with Pandas"
   ]
  },
  {
   "cell_type": "code",
   "execution_count": null,
   "id": "41ee2f19-1dd8-4c85-9011-df85161677f1",
   "metadata": {},
   "outputs": [],
   "source": [
    "# Convert the 'Timestamp' column to datetime format from Unix time (in seconds) where the Kaggle page mentions this caveat\n",
    "# Note: We're using '.loc' to make it clear we're using a copy of the data to explicitly indicate we're modifying a specific column\n",
    "df_cleaned.loc[:, \"Timestamp\"] = pd.to_datetime(df_cleaned[\"Timestamp\"], unit=\"s\") \n",
    "\n",
    "# Display the first few rows to verify the conversion\n",
    "df_cleaned.head()"
   ]
  },
  {
   "cell_type": "markdown",
   "id": "719678a3-a2d8-47d3-952b-34a982d9b3b1",
   "metadata": {},
   "source": [
    "### Because all of that above data is exactly the same, we can filter on a different year (and notice that information is printing minutes apart)\n",
    "This will help us ascertain that we're working with legit data, see here for a filter on the year 2017 where we see changing data. This makes sense as Bitcoin was relatively inactive during 2012 but by 2017 it started to gain market activity with real trading volume and price fluctuations."
   ]
  },
  {
   "cell_type": "code",
   "execution_count": null,
   "id": "43df6d3c-5a2f-46ad-8961-e0c9e269ea4c",
   "metadata": {},
   "outputs": [],
   "source": [
    "# Filter for data from the year 2017\n",
    "df_2017 = df_cleaned[df_cleaned[\"Timestamp\"].dt.year == 2017]\n",
    "\n",
    "# Display the first few rows to verify the filtering\n",
    "print(df_2017.head())"
   ]
  },
  {
   "cell_type": "markdown",
   "id": "425c3499-9a0c-47d9-8bf2-268d65f176ed",
   "metadata": {},
   "source": [
    "## (2) Exploratory Data Analysis\n",
    "Check data types and summary statistics for each numeric column to ensure all data is 'good data', reminder: **we're using the df_cleaned data frame**\n",
    "\n",
    "---"
   ]
  },
  {
   "cell_type": "code",
   "execution_count": null,
   "id": "342a473a-e0d6-4499-ba33-ffed950ef06b",
   "metadata": {},
   "outputs": [],
   "source": [
    "# Check data types of all columns\n",
    "print(df_cleaned.dtypes) # Where float64 = numeric columns, Where datetime = timestamp\n",
    "print(\"-\"*100)\n",
    "# Get summary statistics for the numeric columns (mean, standard deviation, min, max, and quartiles)\n",
    "print(f\"\\nSummary Statistics for Bitcoin Historical Data:\")\n",
    "df_cleaned.describe()"
   ]
  },
  {
   "cell_type": "markdown",
   "id": "a68565aa-84a9-4a66-b5bc-b0a48ccce970",
   "metadata": {},
   "source": [
    "### Visualize the distribution of Bitcoin prices (Open, High, Low, Close) and Volume over time with Plotly"
   ]
  },
  {
   "cell_type": "code",
   "execution_count": null,
   "id": "060c9760-bd43-4427-a0f9-a6dd4d46847c",
   "metadata": {},
   "outputs": [],
   "source": [
    "# Filter data for 2014-2018 and create a copy to avoid warnings\n",
    "df_filtered = df_cleaned[(df_cleaned[\"Timestamp\"].dt.year >= 2014) & (df_cleaned[\"Timestamp\"].dt.year <= 2018)].copy()\n",
    "\n",
    "# Add a 'Year' column for easier grouping\n",
    "df_filtered[\"Year\"] = df_filtered[\"Timestamp\"].dt.year\n",
    "\n",
    "# Price Distribution - Histogram for Close prices\n",
    "fig_price_dist = px.histogram(df_filtered, x=\"Close\", color=df_filtered[\"Year\"].astype(str), nbins=100, title=\"Bitcoin Price Distribution (2014-2018)\")\n",
    "fig_price_dist.show()\n",
    "\n",
    "# Closing Price Over Time - Line Chart\n",
    "fig_price_trend = px.line(df_filtered, x=\"Timestamp\", y=\"Close\", color=df_filtered[\"Year\"].astype(str), title=\"Bitcoin Closing Price Trends (2014-2018)\")\n",
    "fig_price_trend.show()\n",
    "\n",
    "# Volume Trends Over Time - Line Chart\n",
    "fig_volume_trend = px.line(df_filtered, x=\"Timestamp\", y=\"Volume\", color=df_filtered[\"Year\"].astype(str), title=\"Bitcoin Trading Volume Trends (2014-2018)\")\n",
    "fig_volume_trend.show()\n"
   ]
  },
  {
   "cell_type": "code",
   "execution_count": null,
   "id": "47f7d35e-4252-455c-bbf2-8b98685c008e",
   "metadata": {},
   "outputs": [],
   "source": []
  },
  {
   "cell_type": "code",
   "execution_count": null,
   "id": "fe2cd8bb-8f2b-4487-8943-849ce1afe28b",
   "metadata": {},
   "outputs": [],
   "source": []
  },
  {
   "cell_type": "code",
   "execution_count": null,
   "id": "aff5cf35-9bb9-40c7-bdd5-ed3ae6a5e7d8",
   "metadata": {},
   "outputs": [],
   "source": []
  }
 ],
 "metadata": {
  "kernelspec": {
   "display_name": "Python [conda env:base] *",
   "language": "python",
   "name": "conda-base-py"
  },
  "language_info": {
   "codemirror_mode": {
    "name": "ipython",
    "version": 3
   },
   "file_extension": ".py",
   "mimetype": "text/x-python",
   "name": "python",
   "nbconvert_exporter": "python",
   "pygments_lexer": "ipython3",
   "version": "3.12.7"
  }
 },
 "nbformat": 4,
 "nbformat_minor": 5
}
