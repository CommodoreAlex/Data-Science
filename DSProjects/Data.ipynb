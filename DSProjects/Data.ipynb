{
 "cells": [
  {
   "cell_type": "markdown",
   "id": "3e897e99-d6d1-4b15-a7e1-244ad51d4fa0",
   "metadata": {},
   "source": [
    "# Bitcoin Historical Data Visualization and Analysis with Plotly and Dash\n",
    "\n",
    "## Project Overview\n",
    "This notebook aims to explore and visualize Bitcoin historical data to uncover trends and insights in Bitcoin's price movements and trading volume over time. We will use the Bitcoin data available from the [Kaggle Bitcoin Historical Data](https://www.kaggle.com/datasets/mczielinski/bitcoin-historical-data) dataset, and leverage **Plotly** and **Dash** for creating interactive visualizations and dashboards.\n",
    "\n",
    "### Note on File Size Rendering for Sharing\n",
    "Due to file size, this notebook may not render fully on some platforms (GITHUB *cough*). To view the graphs and interact with the data, please download and run it locally in Jupyter for full functionality with Dash and Plotly.\n",
    "\n",
    "### Dataset Columns:\n",
    "- **Timestamp**: The time of the data point (Unix timestamp).\n",
    "- **Open**: Opening price of Bitcoin for the given time period.\n",
    "- **High**: The highest price of Bitcoin during the given time period.\n",
    "- **Low**: The lowest price of Bitcoin during the given time period.\n",
    "- **Close**: Closing price of Bitcoin for the given time period.\n",
    "- **Volume**: The trading volume of Bitcoin in the given time period.\n",
    "\n",
    "## Goals of the Analysis\n",
    "\n",
    "### 1. **Data Preprocessing and Cleaning and Exploratory Data Analysis (EDA)**\n",
    "   - **Load the dataset**: Import the dataset into a Pandas DataFrame.\n",
    "   - **Handle missing values**: Identify and address any missing data points.\n",
    "   - **Timestamp conversion**: Convert the Unix timestamps into a human-readable datetime format for easier analysis.\n",
    "   - **Summary Statistics**: Calculate summary statistics like mean, median, and standard deviation for each numeric column.\n",
    "\n",
    "### 2. **Interactive Visualization and Dashboard with Plotly & Dash**\n",
    "   - **Data Distribution**: Visualize the distribution of Bitcoin prices (Open, High, Low, Close) and Volume over years 2014-2018.\n",
    "   - **Candlestick Chart**: Display Bitcoin price movements (Open, High, Low, Close).\n",
    "   - **Dash App for Exploration**: Create an interactive dashboard with dropdowns, sliders, and filters.\n",
    "   - **Dynamic Updates**: Enable real-time interaction with visual components.\n",
    "\n",
    "## Tools and Libraries\n",
    "We will be using the following libraries to read, clean, analyze, and visualize the data:\n",
    "- **Pandas**: For data manipulation and analysis.\n",
    "- **Plotly**: For creating interactive visualizations such as line charts, candlestick charts, and bar charts.\n",
    "- **Dash**: For building interactive dashboards that allow users to explore and interact with the data.\n",
    "- **NumPy**: For numerical operations.\n",
    "\n",
    "## Expected Outcomes\n",
    "By the end of this notebook, we aim to:\n",
    "1. Gain a deeper understanding of Bitcoin's price movements over time.\n",
    "2. Identify periods of high volatility, bull markets, and bear markets.\n",
    "3. Build interactive visualizations that allow us to explore Bitcoin's historical data in a meaningful way.\n",
    "4. Create a user-friendly dashboard for users to interact with and analyze the data.\n",
    "5. Provide insights into the relationship between Bitcoin price and trading volume.\n",
    "\n",
    "We will start by loading the dataset, performing initial exploration, and setting up the interactive visuals with Plotly and Dash\n",
    "\n",
    "---\n",
    "\n",
    "## **(1) Data Preprocessing and Cleaning and Exploratory Data Analysis (EDA)**\n",
    "\n",
    "See below for the initial configuration in order to work with our data\n",
    "\n",
    "---"
   ]
  },
  {
   "cell_type": "code",
   "execution_count": null,
   "id": "5fa19fba-17ef-406b-8bad-d577301eeb98",
   "metadata": {},
   "outputs": [],
   "source": [
    "# Importing required modules\n",
    "import pandas as pd\n",
    "import numpy as np\n",
    "import dash # You probably need to run '!pip install dash' in a command cell if you're first-time trying to replicate this experiment\n",
    "from dash import dcc, html\n",
    "from dash.dependencies import Input, Output\n",
    "import plotly.express as px\n",
    "import plotly.graph_objects as go\n",
    "import os # Reach the directory structure\n",
    "\n",
    "# Creating the initial data frame to read data from:\n",
    "df = pd.read_csv(\"btcusd_1-min_data.csv\")\n",
    "\n",
    "# Read the data for the first time to see all data columns:\n",
    "df.info()"
   ]
  },
  {
   "cell_type": "markdown",
   "id": "20359c27-a86f-4485-95ed-eddecdb0bafa",
   "metadata": {},
   "source": [
    "#### Handle missing or null values that could skew analysis before proceeding"
   ]
  },
  {
   "cell_type": "code",
   "execution_count": null,
   "id": "dbed6866-bbb9-4f72-9f31-3602cf5c5732",
   "metadata": {},
   "outputs": [],
   "source": [
    "# Check for missing values in each column\n",
    "df.isnull().sum()\n",
    "\n",
    "# Remove rows with any missing values to create a cleaner data set\n",
    "df_cleaned = df.dropna()\n",
    "\n",
    "# Verify if there are any missing values left\n",
    "df_cleaned.isnull().sum()"
   ]
  },
  {
   "cell_type": "markdown",
   "id": "327cd75c-ec83-4f21-971c-7c61b02f0c17",
   "metadata": {},
   "source": [
    "#### Convert Unix timestamps to human-readable foramts for easier analysis with Pandas"
   ]
  },
  {
   "cell_type": "code",
   "execution_count": null,
   "id": "41ee2f19-1dd8-4c85-9011-df85161677f1",
   "metadata": {},
   "outputs": [],
   "source": [
    "# Convert the 'Timestamp' column to datetime format from Unix time (in seconds) where the Kaggle page mentions this caveat\n",
    "# Note: We're using '.loc' to make it clear we're using a copy of the data to explicitly indicate we're modifying a specific column\n",
    "df_cleaned.loc[:, \"Timestamp\"] = pd.to_datetime(df_cleaned[\"Timestamp\"], unit=\"s\") \n",
    "\n",
    "# Display the first few rows to verify the conversion\n",
    "df_cleaned.head()"
   ]
  },
  {
   "cell_type": "markdown",
   "id": "719678a3-a2d8-47d3-952b-34a982d9b3b1",
   "metadata": {},
   "source": [
    "### Because all of that above data is exactly the same, we can filter on a different year (and notice that information is printing minutes apart)\n",
    "This will help us ascertain that we're working with legit data, see here for a filter on the year 2017 where we see changing data. This makes sense as Bitcoin was relatively inactive during 2012 but by 2017 it started to gain market activity with real trading volume and price fluctuations."
   ]
  },
  {
   "cell_type": "code",
   "execution_count": null,
   "id": "43df6d3c-5a2f-46ad-8961-e0c9e269ea4c",
   "metadata": {},
   "outputs": [],
   "source": [
    "# Filter for data from the year 2017\n",
    "df_2017 = df_cleaned[df_cleaned[\"Timestamp\"].dt.year == 2017]\n",
    "\n",
    "# Display the first few rows to verify the filtering\n",
    "print(df_2017.head())"
   ]
  },
  {
   "cell_type": "markdown",
   "id": "425c3499-9a0c-47d9-8bf2-268d65f176ed",
   "metadata": {},
   "source": [
    "Check data types and summary statistics for each numeric column to ensure all data is 'good data', reminder: **we're using the df_cleaned data frame**"
   ]
  },
  {
   "cell_type": "code",
   "execution_count": null,
   "id": "342a473a-e0d6-4499-ba33-ffed950ef06b",
   "metadata": {},
   "outputs": [],
   "source": [
    "# Check data types of all columns\n",
    "print(df_cleaned.dtypes) # Where float64 = numeric columns, Where datetime = timestamp\n",
    "print(\"-\"*100)\n",
    "# Get summary statistics for the numeric columns (mean, standard deviation, min, max, and quartiles)\n",
    "print(f\"\\nSummary Statistics for Bitcoin Historical Data:\")\n",
    "df_cleaned.describe()"
   ]
  },
  {
   "cell_type": "markdown",
   "id": "46744cce-5097-421b-9722-f7407d1287fa",
   "metadata": {},
   "source": [
    "## (2) Data Visualization with Plotly & Building Dashboards with Dash"
   ]
  },
  {
   "cell_type": "markdown",
   "id": "a68565aa-84a9-4a66-b5bc-b0a48ccce970",
   "metadata": {},
   "source": [
    "### Visualize the distribution of Bitcoin prices (Open, High, Low, Close) and Volume over years 2014-2018 with Plotly"
   ]
  },
  {
   "cell_type": "code",
   "execution_count": null,
   "id": "060c9760-bd43-4427-a0f9-a6dd4d46847c",
   "metadata": {},
   "outputs": [],
   "source": [
    "# Filter data for 2014-2018 and create a copy to avoid warnings\n",
    "df_filtered = df_cleaned[(df_cleaned[\"Timestamp\"].dt.year >= 2014) & (df_cleaned[\"Timestamp\"].dt.year <= 2018)].copy()\n",
    "\n",
    "# Add a 'Year' column for easier grouping\n",
    "df_filtered[\"Year\"] = df_filtered[\"Timestamp\"].dt.year\n",
    "\n",
    "# Price Distribution - Histogram for Close prices\n",
    "fig_price_dist = px.histogram(df_filtered, x=\"Close\", color=df_filtered[\"Year\"].astype(str), nbins=100, title=\"Bitcoin Price Distribution (2014-2018)\")\n",
    "fig_price_dist.show()\n",
    "\n",
    "# Closing Price Over Time - Line Chart\n",
    "fig_price_trend = px.line(df_filtered, x=\"Timestamp\", y=\"Close\", color=df_filtered[\"Year\"].astype(str), title=\"Bitcoin Closing Price Trends (2014-2018)\")\n",
    "fig_price_trend.show()\n",
    "\n",
    "# Volume Trends Over Time - Line Chart\n",
    "fig_volume_trend = px.line(df_filtered, x=\"Timestamp\", y=\"Volume\", color=df_filtered[\"Year\"].astype(str), title=\"Bitcoin Trading Volume Trends (2014-2018)\")\n",
    "fig_volume_trend.show()\n"
   ]
  },
  {
   "cell_type": "markdown",
   "id": "3df5c1a1-96c7-4baf-ac16-7ca394f7246d",
   "metadata": {},
   "source": [
    "### Creating a Candlestick Chart using Plotly; Building a Basic Dash App Layout (with dropdowns and sliders); Implementing callbacks for interactivity from the filtered data\n",
    "This code creates a Dash web app to visualize Bitcoin price data (2014-2018) with a candlestick chart. It includes a date range picker to filter the data dynamically, and the chart updates based on the selected range. The app runs within a Jupyter notebook to display interactive visualizations."
   ]
  },
  {
   "cell_type": "code",
   "execution_count": null,
   "id": "adf63b16-67f2-4444-b857-c12267123915",
   "metadata": {},
   "outputs": [],
   "source": [
    "# Initialize Dash App\n",
    "app = dash.Dash(__name__)\n",
    "\n",
    "# Layout\n",
    "app.layout = html.Div([\n",
    "    html.H1(\"Bitcoin Historical Data Visualization\", style={\"textAlign\": \"center\"}),\n",
    "\n",
    "    # Dropdown to select data range\n",
    "    html.Label(\"Select Date Range:\"),\n",
    "    dcc.DatePickerRange(\n",
    "        id=\"date-picker\",\n",
    "        start_date=df_filtered[\"Timestamp\"].min().date(),  # Use min date from the filtered data\n",
    "        end_date=df_filtered[\"Timestamp\"].max().date(),    # Use max date from the filtered data\n",
    "        display_format=\"YYYY-MM-DD\"\n",
    "    ),\n",
    "\n",
    "    # Candlestick chart\n",
    "    dcc.Graph(id=\"candlestick-chart\"),\n",
    "\n",
    "    # Interval component for dynamic updates (if necessary)\n",
    "    dcc.Interval(\n",
    "        id=\"interval-component\",\n",
    "        interval=60000,  # 60 seconds\n",
    "        n_intervals=0\n",
    "    )\n",
    "])\n",
    "\n",
    "# Callback to update the candlestick chart\n",
    "@app.callback(\n",
    "    dash.dependencies.Output(\"candlestick-chart\", \"figure\"),\n",
    "    [\n",
    "        dash.dependencies.Input(\"date-picker\", \"start_date\"),\n",
    "        dash.dependencies.Input(\"date-picker\", \"end_date\"),\n",
    "        dash.dependencies.Input(\"interval-component\", \"n_intervals\"),\n",
    "    ],\n",
    ")\n",
    "def update_candlestick_chart(start_date, end_date, _):\n",
    "    # Ensure the date range is in the correct format\n",
    "    start_date = pd.to_datetime(start_date)\n",
    "    end_date = pd.to_datetime(end_date)\n",
    "    \n",
    "    # Filter the data based on the selected date range from the date picker\n",
    "    filtered_df = df_filtered[\n",
    "        (df_filtered[\"Timestamp\"] >= start_date) & (df_filtered[\"Timestamp\"] <= end_date)\n",
    "    ]\n",
    "    \n",
    "    # Ensure there is data to plot\n",
    "    if filtered_df.empty:\n",
    "        return go.Figure()  # Return an empty figure if no data matches the selected range\n",
    "\n",
    "    # Create the candlestick chart\n",
    "    fig = go.Figure(data=[\n",
    "        go.Candlestick(\n",
    "            x=filtered_df[\"Timestamp\"],\n",
    "            open=filtered_df[\"Open\"],\n",
    "            high=filtered_df[\"High\"],\n",
    "            low=filtered_df[\"Low\"],\n",
    "            close=filtered_df[\"Close\"]\n",
    "        )\n",
    "    ])\n",
    "    \n",
    "    # Update the layout of the chart\n",
    "    fig.update_layout(\n",
    "        title=\"Bitcoin Price Movements (OHLC)\",\n",
    "        xaxis_title=\"Date\",\n",
    "        yaxis_title=\"Price (USD)\",\n",
    "        xaxis_rangeslider_visible=False\n",
    "    )\n",
    "    \n",
    "    return fig\n",
    "\n",
    "# Run the app (this will display the Dash app in the notebook)\n",
    "if __name__ == \"__main__\":\n",
    "    app.run_server(debug=True, use_reloader=False)  # Ensure the server runs properly in a Jupyter notebook\n"
   ]
  }
 ],
 "metadata": {
  "kernelspec": {
   "display_name": "Python [conda env:base] *",
   "language": "python",
   "name": "conda-base-py"
  },
  "language_info": {
   "codemirror_mode": {
    "name": "ipython",
    "version": 3
   },
   "file_extension": ".py",
   "mimetype": "text/x-python",
   "name": "python",
   "nbconvert_exporter": "python",
   "pygments_lexer": "ipython3",
   "version": "3.12.7"
  }
 },
 "nbformat": 4,
 "nbformat_minor": 5
}
