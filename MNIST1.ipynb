{
 "cells": [
  {
   "cell_type": "markdown",
   "id": "9a99cbaa-35b5-4756-8876-eca2c19abe15",
   "metadata": {},
   "source": [
    "# Deep Learning: Simple MNIST Neural Network Model\n",
    "\n",
    "In this Jupyter notebook, I am exploring the MNIST dataset and building a simple neural network model to classify handwritten digits. You will see how the data is stored and accessed, and see how it can be used to train a basic neural network model.\n",
    "\n",
    "### Learning Objectives:\n",
    "- Understand what **deep learning** is and how it relates to **neural networks**.\n",
    "- Explore the architecture of a neural network, including activation functions and optimization techniques.\n",
    "- Build a simple deep learning model using the MNIST dataset to classify digits.\n",
    "\n",
    "### What is Deep Learning?\n",
    "Deep learning is a subset of machine learning, where models (called **neural networks**) learn to perform tasks by processing data through multiple layers of interconnected nodes (neurons). Deep learning models, unlike traditional machine learning models, can automatically learn to extract features from raw data without explicit programming. Neural networks are called \"deep\" when they contain multiple layers, allowing them to learn complex patterns.\n",
    "\n",
    "### Why is this Deep Learning?\n",
    "This model qualifies as **deep learning** because it consists of multiple layers, each designed to learn different features from the data:\n",
    "\n",
    "- **Depth of the Network**: The model includes three hidden layers with 128, 64, and 32 neurons respectively. Neural networks with multiple layers are a hallmark of deep learning (known as **Deep Neural Networks**, or DNNs).\n",
    "  \n",
    "- **Activation Functions**: The use of activation functions like **ReLU** and **sigmoid** in the hidden layers, and **softmax** in the output layer, allows the model to make complex decisions. These functions introduce non-linearity, which enables the model to solve complex problems like classification.\n",
    "\n",
    "Therefore, this project exemplifies deep learning as it uses a multi-layer neural network to handle complex tasks such as **image classification** (e.g., recognizing digits in the MNIST dataset).\n",
    "\n",
    "MNIST is a dataset of 70,000 28x28 grayscale images of handwritten digits (0-9). It is commonly used for training and testing machine learning models, especially for image classification tasks. The dataset includes 60,000 training images and 10,000 testing images, each labeled with the corresponding digit.\n",
    "\n",
    "### Key Terms to Understand\n",
    "Before diving into this project, let's go over a few important terms. These concepts will be helpful as we explore the model and its behavior.\n",
    "\n",
    "1. **Activation Function**: A mathematical function applied to the output of a neuron. It helps decide whether a neuron should be activated and pass the signal to the next layer.\n",
    "\n",
    "2. **ReLU (Rectified Linear Unit)**: A popular activation function that outputs the input directly if it's positive, or zero if it's negative. ReLU introduces non-linearity into the model, making it more powerful in handling complex tasks.\n",
    "\n",
    "3. **Sigmoid Activation Function**: A function that outputs values between 0 and 1. It's often used for binary classification tasks or when we want to represent the probability of a class.\n",
    "\n",
    "4. **Softmax Activation Function**: Typically used in the output layer for **multi-class classification** problems. It converts the raw output into a probability distribution, ensuring that the values sum to 1. This allows us to interpret the outputs as probabilities for each class (in this case, digits 0-9).\n",
    "\n",
    "5. **Non-linearity**: The ability of the model to learn complex patterns. Without non-linear activation functions like ReLU or sigmoid, the network would be unable to solve more complex problems beyond simple linear relationships.\n",
    "\n",
    "6. **Optimizer**: An algorithm used to update the weights of the network during training to minimize the loss function (which measures how well the model is performing).\n",
    "\n",
    "7. **Adam Optimizer**: A widely used optimization algorithm that adapts the learning rate during training, helping the model converge more efficiently.\n",
    "\n",
    "8. **Sparse Categorical Cross-Entropy**: A loss function used for multi-class classification tasks, where the true labels are integers (e.g., digits 0-9). This function calculates the difference between the predicted probabilities and the true labels.\n",
    "\n",
    "9. **Multi-class Classification**: A type of classification where there are more than two possible classes. For example, classifying images of digits from 0 to 9 is a multi-class classification problem.\n",
    "\n",
    "### Resources for Deep Learning\n",
    "\n",
    "[Lecture 11 - Introduction to Neural Networks | Stanford CS229: Machine Learning (Autumn 2018)](https://www.youtube.com/watch?v=MfIjxPh6Pys&t=1457s)\n",
    "\n",
    "---"
   ]
  },
  {
   "cell_type": "code",
   "execution_count": 8,
   "id": "71355d64-3f51-49a3-a8a2-95b77123513b",
   "metadata": {},
   "outputs": [],
   "source": [
    "# Importing required libraries\n",
    "import numpy as np\n",
    "import tensorflow as tf\n",
    "from tensorflow import keras\n",
    "from matplotlib import pyplot as plt\n",
    "import seaborn as sn"
   ]
  },
  {
   "cell_type": "markdown",
   "id": "1e1f7dfd-b658-4a65-aa3f-ca1dda771d90",
   "metadata": {},
   "source": [
    "#### Loading the MNIST Dataset from Keras Datasets\n",
    "X_train is for training images (handwritten digits), y_train is for corresponding labels (digita 0-9) for training data. The X_test is for testing images (handwritten digits) and the y_test is for corresponding labels for testing data.\n",
    "\n",
    "---"
   ]
  },
  {
   "cell_type": "code",
   "execution_count": 56,
   "id": "a1f65d1a-14d4-45e6-a5aa-4788254465e1",
   "metadata": {},
   "outputs": [],
   "source": [
    "# Loading the MNIST Dataset from Keras Datasets \n",
    "(X_train, y_train), (X_test, y_test) = keras.datasets.mnist.load_data()"
   ]
  },
  {
   "cell_type": "markdown",
   "id": "7ae95fcd-cc40-4428-9ac9-61b672c6b796",
   "metadata": {},
   "source": [
    "#### Checking the shape of the training data\n",
    "There are 60,000 images in the training set. Each image is represented as a 28x28 pixel array\n",
    "\n",
    "---"
   ]
  },
  {
   "cell_type": "code",
   "execution_count": 26,
   "id": "a5c69dd7-4287-458a-b971-02b7e9a4a9b9",
   "metadata": {},
   "outputs": [
    {
     "data": {
      "text/plain": [
       "(60000, 28, 28)"
      ]
     },
     "execution_count": 26,
     "metadata": {},
     "output_type": "execute_result"
    }
   ],
   "source": [
    "# Checking the shape of the training data   \n",
    "X_train.shape"
   ]
  },
  {
   "cell_type": "markdown",
   "id": "e264796d-3b91-4902-9182-35e35fd9653e",
   "metadata": {},
   "source": [
    "#### Confirmation of the test dataset shape\n",
    "There are 10,000 images in the test set, where each image is a 28x28 pixel array.\n",
    "\n",
    "---"
   ]
  },
  {
   "cell_type": "code",
   "execution_count": 64,
   "id": "d3b1f7ca-7c91-4ce7-a7b8-a52a01d90f28",
   "metadata": {},
   "outputs": [
    {
     "data": {
      "text/plain": [
       "(10000, 28, 28)"
      ]
     },
     "execution_count": 64,
     "metadata": {},
     "output_type": "execute_result"
    }
   ],
   "source": [
    "# Confirmation of the test dataset shape  \n",
    "X_test.shape"
   ]
  },
  {
   "cell_type": "markdown",
   "id": "c74e6fff-26f0-46be-a85a-705c570a0c84",
   "metadata": {},
   "source": [
    "#### Displaying the first image in the training dataset\n",
    "The X_train at index [0] represents the first handwritten digit image as a 28x28 NumPy array. Each value in the array corresponds to a pixel intensity (0 to 255, grayscale)\n",
    "\n",
    "---"
   ]
  },
  {
   "cell_type": "code",
   "execution_count": 67,
   "id": "2bbfd68e-7f8b-4c31-9cf2-d3d86aa4f592",
   "metadata": {},
   "outputs": [
    {
     "data": {
      "text/plain": [
       "array([[  0,   0,   0,   0,   0,   0,   0,   0,   0,   0,   0,   0,   0,\n",
       "          0,   0,   0,   0,   0,   0,   0,   0,   0,   0,   0,   0,   0,\n",
       "          0,   0],\n",
       "       [  0,   0,   0,   0,   0,   0,   0,   0,   0,   0,   0,   0,   0,\n",
       "          0,   0,   0,   0,   0,   0,   0,   0,   0,   0,   0,   0,   0,\n",
       "          0,   0],\n",
       "       [  0,   0,   0,   0,   0,   0,   0,   0,   0,   0,   0,   0,   0,\n",
       "          0,   0,   0,   0,   0,   0,   0,   0,   0,   0,   0,   0,   0,\n",
       "          0,   0],\n",
       "       [  0,   0,   0,   0,   0,   0,   0,   0,   0,   0,   0,   0,   0,\n",
       "          0,   0,   0,   0,   0,   0,   0,   0,   0,   0,   0,   0,   0,\n",
       "          0,   0],\n",
       "       [  0,   0,   0,   0,   0,   0,   0,   0,   0,   0,   0,   0,   0,\n",
       "          0,   0,   0,   0,   0,   0,   0,   0,   0,   0,   0,   0,   0,\n",
       "          0,   0],\n",
       "       [  0,   0,   0,   0,   0,   0,   0,   0,   0,   0,   0,   0,   3,\n",
       "         18,  18,  18, 126, 136, 175,  26, 166, 255, 247, 127,   0,   0,\n",
       "          0,   0],\n",
       "       [  0,   0,   0,   0,   0,   0,   0,   0,  30,  36,  94, 154, 170,\n",
       "        253, 253, 253, 253, 253, 225, 172, 253, 242, 195,  64,   0,   0,\n",
       "          0,   0],\n",
       "       [  0,   0,   0,   0,   0,   0,   0,  49, 238, 253, 253, 253, 253,\n",
       "        253, 253, 253, 253, 251,  93,  82,  82,  56,  39,   0,   0,   0,\n",
       "          0,   0],\n",
       "       [  0,   0,   0,   0,   0,   0,   0,  18, 219, 253, 253, 253, 253,\n",
       "        253, 198, 182, 247, 241,   0,   0,   0,   0,   0,   0,   0,   0,\n",
       "          0,   0],\n",
       "       [  0,   0,   0,   0,   0,   0,   0,   0,  80, 156, 107, 253, 253,\n",
       "        205,  11,   0,  43, 154,   0,   0,   0,   0,   0,   0,   0,   0,\n",
       "          0,   0],\n",
       "       [  0,   0,   0,   0,   0,   0,   0,   0,   0,  14,   1, 154, 253,\n",
       "         90,   0,   0,   0,   0,   0,   0,   0,   0,   0,   0,   0,   0,\n",
       "          0,   0],\n",
       "       [  0,   0,   0,   0,   0,   0,   0,   0,   0,   0,   0, 139, 253,\n",
       "        190,   2,   0,   0,   0,   0,   0,   0,   0,   0,   0,   0,   0,\n",
       "          0,   0],\n",
       "       [  0,   0,   0,   0,   0,   0,   0,   0,   0,   0,   0,  11, 190,\n",
       "        253,  70,   0,   0,   0,   0,   0,   0,   0,   0,   0,   0,   0,\n",
       "          0,   0],\n",
       "       [  0,   0,   0,   0,   0,   0,   0,   0,   0,   0,   0,   0,  35,\n",
       "        241, 225, 160, 108,   1,   0,   0,   0,   0,   0,   0,   0,   0,\n",
       "          0,   0],\n",
       "       [  0,   0,   0,   0,   0,   0,   0,   0,   0,   0,   0,   0,   0,\n",
       "         81, 240, 253, 253, 119,  25,   0,   0,   0,   0,   0,   0,   0,\n",
       "          0,   0],\n",
       "       [  0,   0,   0,   0,   0,   0,   0,   0,   0,   0,   0,   0,   0,\n",
       "          0,  45, 186, 253, 253, 150,  27,   0,   0,   0,   0,   0,   0,\n",
       "          0,   0],\n",
       "       [  0,   0,   0,   0,   0,   0,   0,   0,   0,   0,   0,   0,   0,\n",
       "          0,   0,  16,  93, 252, 253, 187,   0,   0,   0,   0,   0,   0,\n",
       "          0,   0],\n",
       "       [  0,   0,   0,   0,   0,   0,   0,   0,   0,   0,   0,   0,   0,\n",
       "          0,   0,   0,   0, 249, 253, 249,  64,   0,   0,   0,   0,   0,\n",
       "          0,   0],\n",
       "       [  0,   0,   0,   0,   0,   0,   0,   0,   0,   0,   0,   0,   0,\n",
       "          0,  46, 130, 183, 253, 253, 207,   2,   0,   0,   0,   0,   0,\n",
       "          0,   0],\n",
       "       [  0,   0,   0,   0,   0,   0,   0,   0,   0,   0,   0,   0,  39,\n",
       "        148, 229, 253, 253, 253, 250, 182,   0,   0,   0,   0,   0,   0,\n",
       "          0,   0],\n",
       "       [  0,   0,   0,   0,   0,   0,   0,   0,   0,   0,  24, 114, 221,\n",
       "        253, 253, 253, 253, 201,  78,   0,   0,   0,   0,   0,   0,   0,\n",
       "          0,   0],\n",
       "       [  0,   0,   0,   0,   0,   0,   0,   0,  23,  66, 213, 253, 253,\n",
       "        253, 253, 198,  81,   2,   0,   0,   0,   0,   0,   0,   0,   0,\n",
       "          0,   0],\n",
       "       [  0,   0,   0,   0,   0,   0,  18, 171, 219, 253, 253, 253, 253,\n",
       "        195,  80,   9,   0,   0,   0,   0,   0,   0,   0,   0,   0,   0,\n",
       "          0,   0],\n",
       "       [  0,   0,   0,   0,  55, 172, 226, 253, 253, 253, 253, 244, 133,\n",
       "         11,   0,   0,   0,   0,   0,   0,   0,   0,   0,   0,   0,   0,\n",
       "          0,   0],\n",
       "       [  0,   0,   0,   0, 136, 253, 253, 253, 212, 135, 132,  16,   0,\n",
       "          0,   0,   0,   0,   0,   0,   0,   0,   0,   0,   0,   0,   0,\n",
       "          0,   0],\n",
       "       [  0,   0,   0,   0,   0,   0,   0,   0,   0,   0,   0,   0,   0,\n",
       "          0,   0,   0,   0,   0,   0,   0,   0,   0,   0,   0,   0,   0,\n",
       "          0,   0],\n",
       "       [  0,   0,   0,   0,   0,   0,   0,   0,   0,   0,   0,   0,   0,\n",
       "          0,   0,   0,   0,   0,   0,   0,   0,   0,   0,   0,   0,   0,\n",
       "          0,   0],\n",
       "       [  0,   0,   0,   0,   0,   0,   0,   0,   0,   0,   0,   0,   0,\n",
       "          0,   0,   0,   0,   0,   0,   0,   0,   0,   0,   0,   0,   0,\n",
       "          0,   0]], dtype=uint8)"
      ]
     },
     "execution_count": 67,
     "metadata": {},
     "output_type": "execute_result"
    }
   ],
   "source": [
    "# Displaying the first image in the training dataset  \n",
    "X_train[0]"
   ]
  },
  {
   "cell_type": "markdown",
   "id": "1b09844a-ad2c-40c2-9074-e34f09b14648",
   "metadata": {},
   "source": [
    "#### Normalizing the pixel values of the images\n",
    "The original pixel values range from 0 to 255 (grayscale), dividing by 255 scales them to a range of 0 to 1. This helps improve training performance by ensuring consistent input values.\n",
    "\n",
    "---"
   ]
  },
  {
   "cell_type": "code",
   "execution_count": 70,
   "id": "e803e023-0caf-4d8f-9f57-c9c722bedcc2",
   "metadata": {},
   "outputs": [],
   "source": [
    "# Normalizing the pixel values of the images  \n",
    "X_train = X_train / 255  \n",
    "X_test = X_test / 255  "
   ]
  },
  {
   "cell_type": "markdown",
   "id": "6cdbe9e8-a495-4cd0-8fdc-2c75d8e45de2",
   "metadata": {},
   "source": [
    "#### Creating a visual representation of the 28x28 array\n",
    "We select an index to display a specific image from the dataset, and we display it using Matplotlib. Then we can print the corresponding label for the selected image.\n",
    "\n",
    "---"
   ]
  },
  {
   "cell_type": "code",
   "execution_count": 74,
   "id": "0201c518-8da9-41e4-9978-08d1ec541e40",
   "metadata": {},
   "outputs": [
    {
     "name": "stdout",
     "output_type": "stream",
     "text": [
      "5\n"
     ]
    },
    {
     "data": {
      "image/png": "[encoded data removed]",
      "text/plain": [
       "<Figure size 640x480 with 1 Axes>"
      ]
     },
     "metadata": {},
     "output_type": "display_data"
    }
   ],
   "source": [
    "# Selecting an index to display a specific image from the training dataset  \n",
    "index = 0  \n",
    "\n",
    "# - plt.imshow() is used to visualize the 28x28 pixel image  \n",
    "# - cmap=plt.cm.binary ensures the image is displayed in grayscale (black & white)  \n",
    "plt.imshow(X_train[index], cmap=plt.cm.binary)  \n",
    "\n",
    "# - y_train[index] contains the digit (0-9) that the image represents  \n",
    "print(y_train[index])  "
   ]
  },
  {
   "cell_type": "markdown",
   "id": "51b6b30d-4463-4e62-a4fc-c3e5e84d1f79",
   "metadata": {},
   "source": [
    "#### We can see the second, or other images in the dataset by changing the index\n",
    "You will see a four appear in lieu of our first number.\n",
    "\n",
    "---"
   ]
  },
  {
   "cell_type": "code",
   "execution_count": 80,
   "id": "42da0af3-67ac-4887-96a1-132cb763829f",
   "metadata": {},
   "outputs": [
    {
     "name": "stdout",
     "output_type": "stream",
     "text": [
      "4\n"
     ]
    },
    {
     "data": {
      "image/png": "[encoded data removed]",
      "text/plain": [
       "<Figure size 640x480 with 1 Axes>"
      ]
     },
     "metadata": {},
     "output_type": "display_data"
    }
   ],
   "source": [
    "# Selecting an index to display a specific image from the training dataset  \n",
    "index = 2\n",
    "\n",
    "# - plt.imshow() is used to visualize the 28x28 pixel image  \n",
    "# - cmap=plt.cm.binary ensures the image is displayed in grayscale (black & white)  \n",
    "plt.imshow(X_train[index], cmap=plt.cm.binary)  \n",
    "\n",
    "# - y_train[index] contains the digit (0-9) that the image represents  \n",
    "print(y_train[index])  "
   ]
  },
  {
   "cell_type": "markdown",
   "id": "28fceb17-d678-4a5b-9c83-a12b9246de46",
   "metadata": {},
   "source": [
    "#### Flattening the images from 28x28 matrices into 1D arrays of 784 pixels \n",
    "\n",
    "\n",
    "----"
   ]
  },
  {
   "cell_type": "code",
   "execution_count": 89,
   "id": "11bb3659-f247-4408-8245-995cce0c8b04",
   "metadata": {},
   "outputs": [],
   "source": [
    "# - Neural networks typically process inputs as 1D vectors rather than 2D images  \n",
    "# - reshape(len(X_train), 28 * 28) converts each image into a 784-element vector  \n",
    "X_train_flat = X_train.reshape(len(X_train), (28 * 28))  \n",
    "X_test_flat = X_test.reshape(len(X_test), (28 * 28))  "
   ]
  },
  {
   "cell_type": "code",
   "execution_count": 94,
   "id": "2be6a2e1-fc80-430f-b1f3-827874df735f",
   "metadata": {},
   "outputs": [
    {
     "data": {
      "text/plain": [
       "(60000, 784)"
      ]
     },
     "execution_count": 94,
     "metadata": {},
     "output_type": "execute_result"
    }
   ],
   "source": [
    "# Checking the shape of the flattened training data  \n",
    "# - After reshaping, each image is now a 1D array of 784 pixel values  \n",
    "# - The dataset still contains 60,000 images  \n",
    "X_train_flat.shape  "
   ]
  },
  {
   "cell_type": "markdown",
   "id": "aac3f67f-6784-4cf5-af6c-a9c1b8220383",
   "metadata": {},
   "source": [
    "#### Model Overview\n",
    "This model consists of four layers. The first layer uses the ReLU (Rectified Linear Unit) activation function, which introduces non-linearity by outputting the input directly if it's positive, or zero otherwise.\n",
    "\n",
    "The next two layers use the sigmoid activation function, which outputs values between 0 and 1—ideal for the already scaled data.\n",
    "\n",
    "The final layer employs softmax, converting the outputs into a probability distribution for multi-class classification.\n",
    "\n",
    "The model uses the Adam optimizer, which efficiently updates weights during training, and is well-suited for sparse categorical cross-entropy loss.\n",
    "\n",
    "---"
   ]
  },
  {
   "cell_type": "code",
   "execution_count": 101,
   "id": "d50261c0-eceb-4123-94a5-4bb3c05215c3",
   "metadata": {},
   "outputs": [
    {
     "name": "stdout",
     "output_type": "stream",
     "text": [
      "Epoch 1/5\n",
      "\u001b[1m1875/1875\u001b[0m \u001b[32m━━━━━━━━━━━━━━━━━━━━\u001b[0m\u001b[37m\u001b[0m \u001b[1m2s\u001b[0m 969us/step - accuracy: 0.7994 - loss: 0.8863\n",
      "Epoch 2/5\n",
      "\u001b[1m1875/1875\u001b[0m \u001b[32m━━━━━━━━━━━━━━━━━━━━\u001b[0m\u001b[37m\u001b[0m \u001b[1m2s\u001b[0m 969us/step - accuracy: 0.9609 - loss: 0.1389\n",
      "Epoch 3/5\n",
      "\u001b[1m1875/1875\u001b[0m \u001b[32m━━━━━━━━━━━━━━━━━━━━\u001b[0m\u001b[37m\u001b[0m \u001b[1m2s\u001b[0m 928us/step - accuracy: 0.9765 - loss: 0.0837\n",
      "Epoch 4/5\n",
      "\u001b[1m1875/1875\u001b[0m \u001b[32m━━━━━━━━━━━━━━━━━━━━\u001b[0m\u001b[37m\u001b[0m \u001b[1m2s\u001b[0m 937us/step - accuracy: 0.9832 - loss: 0.0582\n",
      "Epoch 5/5\n",
      "\u001b[1m1875/1875\u001b[0m \u001b[32m━━━━━━━━━━━━━━━━━━━━\u001b[0m\u001b[37m\u001b[0m \u001b[1m2s\u001b[0m 940us/step - accuracy: 0.9872 - loss: 0.0447\n"
     ]
    },
    {
     "data": {
      "text/plain": [
       "<keras.src.callbacks.history.History at 0x17dbf00b470>"
      ]
     },
     "execution_count": 101,
     "metadata": {},
     "output_type": "execute_result"
    }
   ],
   "source": [
    "# Building a Sequential neural network model in Keras\n",
    "model = keras.Sequential([\n",
    "    # First Dense layer: \n",
    "    # - 128 neurons\n",
    "    # - Input shape of (784,) corresponds to flattened image (28x28 pixels)\n",
    "    # - 'ReLU' (Rectified Linear Unit) activation function introduces non-linearity\n",
    "    keras.layers.Dense(128, input_shape=(784,), activation='relu'),\n",
    "\n",
    "    # Second Dense layer:\n",
    "    # - 64 neurons\n",
    "    # - 'Sigmoid' activation function outputs values between 0 and 1\n",
    "    keras.layers.Dense(64, activation='sigmoid'),\n",
    "\n",
    "    # Third Dense layer:\n",
    "    # - 32 neurons\n",
    "    # - 'Sigmoid' activation function\n",
    "    keras.layers.Dense(32, activation='sigmoid'),\n",
    "\n",
    "    # Output layer:\n",
    "    # - 10 neurons corresponding to the 10 possible digit classes (0-9)\n",
    "    # - 'Softmax' activation function gives probabilities for each class (sums to 1)\n",
    "    keras.layers.Dense(10, activation='softmax'),\n",
    "])\n",
    "\n",
    "# Compiling the model:\n",
    "# - Optimizer: 'Adam' is an efficient gradient descent optimizer\n",
    "# - Loss function: 'sparse_categorical_crossentropy' used for multi-class classification\n",
    "# - Metrics: 'accuracy' to track the model's performance during training\n",
    "model.compile(\n",
    "    optimizer='adam',\n",
    "    loss='sparse_categorical_crossentropy',\n",
    "    metrics=['accuracy']\n",
    ")\n",
    "\n",
    "# Training the model:\n",
    "# - Using the flattened training data (X_train_flat) and corresponding labels (y_train)\n",
    "# - Running for 5 epochs to train the model\n",
    "model.fit(X_train_flat, y_train, epochs=5)"
   ]
  },
  {
   "cell_type": "markdown",
   "id": "80aa2c61-dba1-40d2-8b51-683c28f3fe60",
   "metadata": {},
   "source": [
    "#### Evaluating the Model with Test Data  \n",
    "\n",
    "While our model achieved high accuracy during training with minimal loss, it's important to test it on unseen data to measure its **real-world performance**. Using the test dataset, we can evaluate how well the model generalizes beyond the training data.  \n",
    "\n",
    "---"
   ]
  },
  {
   "cell_type": "code",
   "execution_count": 107,
   "id": "debe8f30-c92d-4f34-91e4-300394b1c780",
   "metadata": {},
   "outputs": [
    {
     "name": "stdout",
     "output_type": "stream",
     "text": [
      "\u001b[1m313/313\u001b[0m \u001b[32m━━━━━━━━━━━━━━━━━━━━\u001b[0m\u001b[37m\u001b[0m \u001b[1m0s\u001b[0m 704us/step - accuracy: 0.9732 - loss: 0.0959\n"
     ]
    },
    {
     "data": {
      "text/plain": [
       "[0.08164511620998383, 0.9768000245094299]"
      ]
     },
     "execution_count": 107,
     "metadata": {},
     "output_type": "execute_result"
    }
   ],
   "source": [
    "model.evaluate(X_test_flat, y_test)"
   ]
  },
  {
   "cell_type": "markdown",
   "id": "1eea1dfb-8815-4311-b13f-31dfdb90cd86",
   "metadata": {},
   "source": [
    "The output [0.0816, 0.9768] represents the loss (0.0816) and accuracy (97.68%) on the test data. A low loss and high accuracy indicate strong model performance and good generalization to unseen data."
   ]
  },
  {
   "cell_type": "markdown",
   "id": "be5e769c-86f5-431b-8d8f-e03c732619b1",
   "metadata": {},
   "source": [
    "#### Creating a Confusion Matrix to Identify Misclassified Digits - Seaborn\n",
    "\n",
    "To analyze which digits the model struggles with, we can generate a **confusion matrix**. This helps us identify any patterns in misclassification by comparing actual labels to predicted labels.\n",
    "\n",
    "---"
   ]
  },
  {
   "cell_type": "code",
   "execution_count": 113,
   "id": "21b9ccb8-178b-444a-b438-b2c02c8a14ca",
   "metadata": {},
   "outputs": [
    {
     "name": "stdout",
     "output_type": "stream",
     "text": [
      "\u001b[1m313/313\u001b[0m \u001b[32m━━━━━━━━━━━━━━━━━━━━\u001b[0m\u001b[37m\u001b[0m \u001b[1m0s\u001b[0m 561us/step\n"
     ]
    }
   ],
   "source": [
    "# Generating predictions for the test dataset\n",
    "y_pred = model.predict(X_test_flat)\n",
    "\n",
    "# Converting predicted probability distributions into class labels\n",
    "# np.argmax(i) selects the index with the highest probability for each prediction\n",
    "y_pred_labels = [np.argmax(i) for i in y_pred]"
   ]
  },
  {
   "cell_type": "markdown",
   "id": "02644a5f-9682-4611-973c-1ab830e71982",
   "metadata": {},
   "source": [
    "This output indicates that the model processed all 313 test batches efficiently, taking an average of 561 microseconds per step. It confirms that predictions were successfully generated"
   ]
  },
  {
   "cell_type": "code",
   "execution_count": 119,
   "id": "e43c4c65-f736-4b1a-b072-8d7d81a71c94",
   "metadata": {},
   "outputs": [
    {
     "data": {
      "text/plain": [
       "<Axes: >"
      ]
     },
     "execution_count": 119,
     "metadata": {},
     "output_type": "execute_result"
    },
    {
     "data": {
      "image/png": "[encoded data removed]",
      "text/plain": [
       "<Figure size 640x480 with 2 Axes>"
      ]
     },
     "metadata": {},
     "output_type": "display_data"
    }
   ],
   "source": [
    "# Creating a confusion matrix to analyze misclassifications\n",
    "confusion_matrix = tf.math.confusion_matrix(labels=y_test, predictions=y_pred_labels)\n",
    "\n",
    "# Visualizing the confusion matrix using a heatmap using Seaborn\n",
    "# 'annot=True' displays the numbers, and 'fmt=\"d\"' ensures integer formatting\n",
    "sn.heatmap(confusion_matrix, annot=True, fmt='d')"
   ]
  },
  {
   "cell_type": "markdown",
   "id": "4208346a-425d-498d-b4e0-2003ba17b54f",
   "metadata": {},
   "source": [
    "#### How to Interpret a Confusion Matrix\n",
    "- Diagonal Values: These are correct predictions. Higher values here indicate the model is accurately predicting those digits.\n",
    "- Off-Diagonal Values: These show misclassifications. If a digit is frequently predicted as another, it indicates the model struggles with distinguishing those digits.\n",
    "- Rows: Represent actual values (true labels).\n",
    "- Columns: Represent predicted values.\n",
    "\n",
    "By looking at the matrix, you can spot patterns in misclassifications and identify where the model needs improvement.\n",
    "\n",
    "---"
   ]
  }
 ],
 "metadata": {
  "kernelspec": {
   "display_name": "Python [conda env:base] *",
   "language": "python",
   "name": "conda-base-py"
  },
  "language_info": {
   "codemirror_mode": {
    "name": "ipython",
    "version": 3
   },
   "file_extension": ".py",
   "mimetype": "text/x-python",
   "name": "python",
   "nbconvert_exporter": "python",
   "pygments_lexer": "ipython3",
   "version": "3.12.7"
  }
 },
 "nbformat": 4,
 "nbformat_minor": 5
}
