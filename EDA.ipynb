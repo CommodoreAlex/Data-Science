{
 "cells": [
  {
   "cell_type": "markdown",
   "id": "f175b7b1-b725-4233-a214-483c9230ce8b",
   "metadata": {},
   "source": [
    "# Exploratory Data Analysis with Python: Netflix Titles from Kaggle\n",
    "\n",
    "### Overview\n",
    "\n",
    "This project involves performing an **Exploratory Data Analysis (EDA)** on the **Netflix Titles dataset** obtained from Kaggle. The dataset includes detailed information on various TV shows and movies available on Netflix, such as their genres, release year, ratings, cast, country of production, and more. By analzing this data, it serves as a good base for my first experience with Exploratory Data Analysis using Kaggle datasets.\n",
    "\n",
    "### Goals of the Project\n",
    "\n",
    "The primary goals for this analysis include:\n",
    "\n",
    "- **Identifying Trends and Correlations**: Explore relationships between variables like genres, ratings, and release year.\n",
    "- **Detecting Missing or Inconsistent Data**: Identify any gaps, missing values, or inconsistencies in the dataset.\n",
    "- **Understanding Data Distributions**: Analyze the distributions of key variables such as ratings, release years, and content type (TV show vs. movie).\n",
    "\n",
    "### Dataset Source:\n",
    "You can access the dataset on Kaggle: [Netflix Titles Dataset on Kaggle](https://www.kaggle.com/datasets/victorsoeiro/netflix-tv-shows-and-movies)\n",
    "\n",
    "### Dataset Description\n",
    "\n",
    "The dataset contains the following columns:\n",
    "- `show_id`: Unique identifier for each show.\n",
    "- `type`: Whether the content is a TV show or a movie.\n",
    "- `title`: The title of the show/movie.\n",
    "- `director`: Director of the show/movie.\n",
    "- `cast`: Main cast members.\n",
    "- `country`: Country of origin.\n",
    "- `release_year`: Year of release.\n",
    "- `rating`: IMDb or Netflix rating.\n",
    "- `duration`: Duration of the movie (in minutes) or number of seasons for TV shows.\n",
    "- `listed_in`: Genre or categories the title belongs to.\n",
    "- `description`: A brief description of the title.\n",
    "\n",
    "### Approach\n",
    "\n",
    "- **Data Cleaning**: Handle missing values and duplicates, ensure correct data types.\n",
    "- **Data Visualization**: Use Python libraries such as `Matplotlib` to create meaningful visualizations, like bar plots, histograms, and scatter plots.\n",
    "- **Statistical Analysis**: Investigate the distribution of ratings, release years, and content types.\n",
    "- **Exploratory Insights**: Explore trends such as the most common genres, top-rated titles, or content availability across different countries.\n",
    "\n",
    "---"
   ]
  },
  {
   "cell_type": "markdown",
   "id": "a4b7a03f-985c-4da3-9bcd-53edf0db85a4",
   "metadata": {},
   "source": [
    "### Creating the imports required and allocating the data to a variable:"
   ]
  },
  {
   "cell_type": "code",
   "execution_count": 9,
   "id": "a1721c73-db92-4c94-87c0-6f5efb15b0ad",
   "metadata": {},
   "outputs": [],
   "source": [
    "import pandas as pd\n",
    "import numpy as np\n",
    "import matplotlib\n",
    "df = pd.read_csv(\"titles.csv\")"
   ]
  },
  {
   "cell_type": "markdown",
   "id": "b40599e6-0821-4d61-8cb5-b3f96c43aedf",
   "metadata": {},
   "source": [
    "### Displaying the information of the data frame:"
   ]
  },
  {
   "cell_type": "code",
   "execution_count": 5,
   "id": "21e4b3ea-d056-44f1-99cf-f349fd2f1136",
   "metadata": {},
   "outputs": [
    {
     "name": "stdout",
     "output_type": "stream",
     "text": [
      "<class 'pandas.core.frame.DataFrame'>\n",
      "RangeIndex: 5850 entries, 0 to 5849\n",
      "Data columns (total 15 columns):\n",
      " #   Column                Non-Null Count  Dtype  \n",
      "---  ------                --------------  -----  \n",
      " 0   id                    5850 non-null   object \n",
      " 1   title                 5849 non-null   object \n",
      " 2   type                  5850 non-null   object \n",
      " 3   description           5832 non-null   object \n",
      " 4   release_year          5850 non-null   int64  \n",
      " 5   age_certification     3231 non-null   object \n",
      " 6   runtime               5850 non-null   int64  \n",
      " 7   genres                5850 non-null   object \n",
      " 8   production_countries  5850 non-null   object \n",
      " 9   seasons               2106 non-null   float64\n",
      " 10  imdb_id               5447 non-null   object \n",
      " 11  imdb_score            5368 non-null   float64\n",
      " 12  imdb_votes            5352 non-null   float64\n",
      " 13  tmdb_popularity       5759 non-null   float64\n",
      " 14  tmdb_score            5539 non-null   float64\n",
      "dtypes: float64(5), int64(2), object(8)\n",
      "memory usage: 685.7+ KB\n"
     ]
    }
   ],
   "source": [
    "df.info()"
   ]
  },
  {
   "cell_type": "markdown",
   "id": "6a557e8b-8896-4b95-8559-3c05f4e75c78",
   "metadata": {},
   "source": [
    "### Check for any duplicates in the data:"
   ]
  },
  {
   "cell_type": "code",
   "execution_count": 7,
   "id": "e1746efb-914e-42fa-b454-aa1a7b634a5d",
   "metadata": {
    "scrolled": true
   },
   "outputs": [
    {
     "name": "stdout",
     "output_type": "stream",
     "text": [
      "0\n"
     ]
    }
   ],
   "source": [
    "print(df.duplicated().sum())"
   ]
  },
  {
   "cell_type": "markdown",
   "id": "f5a5a307-5cc2-412b-b9df-ac824bc28f6c",
   "metadata": {},
   "source": [
    "### Show all unique release years:"
   ]
  },
  {
   "cell_type": "code",
   "execution_count": 18,
   "id": "48df3807-b4f5-4a28-8bc4-e6d81c6c1e90",
   "metadata": {},
   "outputs": [
    {
     "data": {
      "text/plain": [
       "array([1945, 1976, 1972, 1975, 1967, 1969, 1979, 1971, 1980, 1961, 1966,\n",
       "       1954, 1958, 1977, 1963, 1956, 1960, 1973, 1974, 1959, 1978, 1989,\n",
       "       1990, 1987, 1984, 1983, 1982, 1986, 1981, 1988, 1985, 2000, 1996,\n",
       "       1997, 1995, 1994, 1999, 1998, 1993, 1992, 1991, 2008, 2002, 2010,\n",
       "       2005, 2007, 2004, 2006, 2009, 2003, 2001, 2011, 2012, 2013, 2014,\n",
       "       2015, 2016, 2018, 2017, 2019, 2020, 2022, 2021], dtype=int64)"
      ]
     },
     "execution_count": 18,
     "metadata": {},
     "output_type": "execute_result"
    }
   ],
   "source": [
    "df[\"release_year\"].unique()"
   ]
  },
  {
   "cell_type": "markdown",
   "id": "d8c7adc2-1abc-4e37-9c96-b50705420ab3",
   "metadata": {},
   "source": [
    "### Count all entries for each year:"
   ]
  },
  {
   "cell_type": "code",
   "execution_count": 22,
   "id": "75bdb479-04a3-4709-8d64-35ef8c7da645",
   "metadata": {},
   "outputs": [
    {
     "data": {
      "text/plain": [
       "release_year\n",
       "2019    836\n",
       "2020    814\n",
       "2021    787\n",
       "2018    773\n",
       "2017    563\n",
       "       ... \n",
       "1960      1\n",
       "1974      1\n",
       "1959      1\n",
       "1978      1\n",
       "1945      1\n",
       "Name: count, Length: 63, dtype: int64"
      ]
     },
     "execution_count": 22,
     "metadata": {},
     "output_type": "execute_result"
    }
   ],
   "source": [
    "df[\"release_year\"].value_counts()"
   ]
  },
  {
   "cell_type": "markdown",
   "id": "4617f7b3-9c35-4209-aa24-e07c894ad024",
   "metadata": {},
   "source": [
    "### Fetch the sum of all null values in the columns of data:"
   ]
  },
  {
   "cell_type": "code",
   "execution_count": 25,
   "id": "6883d43f-30e6-4827-82d5-9b939e52f966",
   "metadata": {},
   "outputs": [
    {
     "data": {
      "text/plain": [
       "id                         0\n",
       "title                      1\n",
       "type                       0\n",
       "description               18\n",
       "release_year               0\n",
       "age_certification       2619\n",
       "runtime                    0\n",
       "genres                     0\n",
       "production_countries       0\n",
       "seasons                 3744\n",
       "imdb_id                  403\n",
       "imdb_score               482\n",
       "imdb_votes               498\n",
       "tmdb_popularity           91\n",
       "tmdb_score               311\n",
       "dtype: int64"
      ]
     },
     "execution_count": 25,
     "metadata": {},
     "output_type": "execute_result"
    }
   ],
   "source": [
    "df.isnull().sum()"
   ]
  },
  {
   "cell_type": "markdown",
   "id": "ca90226f-4fb3-415f-8cb4-f8cd1e9b4d1f",
   "metadata": {},
   "source": [
    "### Replace all null values with '0', first time using numpy:"
   ]
  },
  {
   "cell_type": "code",
   "execution_count": 30,
   "id": "e7279fc8-5403-4bb7-8c49-8eeec044595d",
   "metadata": {},
   "outputs": [],
   "source": [
    "df.replace(np.nan, \"0\", inplace = True)"
   ]
  },
  {
   "cell_type": "markdown",
   "id": "367faf4c-e832-41fb-88b1-f77a3d3cc597",
   "metadata": {},
   "source": [
    "### Confirm the change has been made -> converting all null values to '0':"
   ]
  },
  {
   "cell_type": "code",
   "execution_count": 32,
   "id": "5b9e3432-5b84-4938-b623-5ac87a174e5b",
   "metadata": {},
   "outputs": [
    {
     "data": {
      "text/plain": [
       "id                      0\n",
       "title                   0\n",
       "type                    0\n",
       "description             0\n",
       "release_year            0\n",
       "age_certification       0\n",
       "runtime                 0\n",
       "genres                  0\n",
       "production_countries    0\n",
       "seasons                 0\n",
       "imdb_id                 0\n",
       "imdb_score              0\n",
       "imdb_votes              0\n",
       "tmdb_popularity         0\n",
       "tmdb_score              0\n",
       "dtype: int64"
      ]
     },
     "execution_count": 32,
     "metadata": {},
     "output_type": "execute_result"
    }
   ],
   "source": [
    "df.isnull().sum()"
   ]
  },
  {
   "cell_type": "markdown",
   "id": "c4abd3b6-ba08-40b6-9df5-b23e86f3188b",
   "metadata": {},
   "source": [
    "### Creating a second data frame that tracks only release yeares greater than 2018:"
   ]
  },
  {
   "cell_type": "code",
   "execution_count": 56,
   "id": "ac34a90e-dfdb-4f56-828e-53f8df7db52c",
   "metadata": {},
   "outputs": [],
   "source": [
    "df2 = df[df[\"release_year\"] > 2018]"
   ]
  },
  {
   "cell_type": "code",
   "execution_count": 60,
   "id": "f3edd4bc-0982-4bb9-b04c-aa2b4a583da8",
   "metadata": {},
   "outputs": [
    {
     "data": {
      "text/html": [
       "<div>\n",
       "<style scoped>\n",
       "    .dataframe tbody tr th:only-of-type {\n",
       "        vertical-align: middle;\n",
       "    }\n",
       "\n",
       "    .dataframe tbody tr th {\n",
       "        vertical-align: top;\n",
       "    }\n",
       "\n",
       "    .dataframe thead th {\n",
       "        text-align: right;\n",
       "    }\n",
       "</style>\n",
       "<table border=\"1\" class=\"dataframe\">\n",
       "  <thead>\n",
       "    <tr style=\"text-align: right;\">\n",
       "      <th></th>\n",
       "      <th>id</th>\n",
       "      <th>title</th>\n",
       "      <th>type</th>\n",
       "      <th>description</th>\n",
       "      <th>release_year</th>\n",
       "      <th>age_certification</th>\n",
       "      <th>runtime</th>\n",
       "      <th>genres</th>\n",
       "      <th>production_countries</th>\n",
       "      <th>seasons</th>\n",
       "      <th>imdb_id</th>\n",
       "      <th>imdb_score</th>\n",
       "      <th>imdb_votes</th>\n",
       "      <th>tmdb_popularity</th>\n",
       "      <th>tmdb_score</th>\n",
       "    </tr>\n",
       "  </thead>\n",
       "  <tbody>\n",
       "    <tr>\n",
       "      <th>3042</th>\n",
       "      <td>ts76645</td>\n",
       "      <td>The Umbrella Academy</td>\n",
       "      <td>SHOW</td>\n",
       "      <td>A family of former child heroes, now grown apa...</td>\n",
       "      <td>2019</td>\n",
       "      <td>TV-14</td>\n",
       "      <td>50</td>\n",
       "      <td>['comedy', 'drama', 'fantasy', 'scifi', 'action']</td>\n",
       "      <td>['US']</td>\n",
       "      <td>3.0</td>\n",
       "      <td>tt1312171</td>\n",
       "      <td>8.0</td>\n",
       "      <td>230211.0</td>\n",
       "      <td>388.952</td>\n",
       "      <td>8.7</td>\n",
       "    </tr>\n",
       "    <tr>\n",
       "      <th>3043</th>\n",
       "      <td>ts216746</td>\n",
       "      <td>The Secret of Skinwalker Ranch</td>\n",
       "      <td>SHOW</td>\n",
       "      <td>A team of experts and scientists undertakes ex...</td>\n",
       "      <td>2020</td>\n",
       "      <td>TV-PG</td>\n",
       "      <td>42</td>\n",
       "      <td>['horror', 'reality', 'thriller', 'documentati...</td>\n",
       "      <td>['US']</td>\n",
       "      <td>3.0</td>\n",
       "      <td>tt10589968</td>\n",
       "      <td>6.0</td>\n",
       "      <td>2625.0</td>\n",
       "      <td>30.911</td>\n",
       "      <td>8.5</td>\n",
       "    </tr>\n",
       "    <tr>\n",
       "      <th>3044</th>\n",
       "      <td>ts89840</td>\n",
       "      <td>Virgin River</td>\n",
       "      <td>SHOW</td>\n",
       "      <td>After seeing an ad for a midwife, a recently d...</td>\n",
       "      <td>2019</td>\n",
       "      <td>TV-14</td>\n",
       "      <td>44</td>\n",
       "      <td>['drama', 'romance']</td>\n",
       "      <td>['US']</td>\n",
       "      <td>4.0</td>\n",
       "      <td>tt9077530</td>\n",
       "      <td>7.4</td>\n",
       "      <td>36459.0</td>\n",
       "      <td>169.37</td>\n",
       "      <td>8.034</td>\n",
       "    </tr>\n",
       "    <tr>\n",
       "      <th>3045</th>\n",
       "      <td>tm441050</td>\n",
       "      <td>The Gentlemen</td>\n",
       "      <td>MOVIE</td>\n",
       "      <td>American expat Mickey Pearson has built a high...</td>\n",
       "      <td>2019</td>\n",
       "      <td>R</td>\n",
       "      <td>113</td>\n",
       "      <td>['crime', 'action', 'comedy']</td>\n",
       "      <td>['US', 'GB']</td>\n",
       "      <td>0</td>\n",
       "      <td>tt8367814</td>\n",
       "      <td>7.8</td>\n",
       "      <td>325385.0</td>\n",
       "      <td>67.919</td>\n",
       "      <td>7.687</td>\n",
       "    </tr>\n",
       "    <tr>\n",
       "      <th>3046</th>\n",
       "      <td>ts87466</td>\n",
       "      <td>Demon Slayer: Kimetsu no Yaiba</td>\n",
       "      <td>SHOW</td>\n",
       "      <td>It is the Taisho Period in Japan. Tanjiro, a k...</td>\n",
       "      <td>2019</td>\n",
       "      <td>TV-MA</td>\n",
       "      <td>25</td>\n",
       "      <td>['scifi', 'action', 'animation', 'horror', 'fa...</td>\n",
       "      <td>['JP']</td>\n",
       "      <td>3.0</td>\n",
       "      <td>tt9335498</td>\n",
       "      <td>8.7</td>\n",
       "      <td>93604.0</td>\n",
       "      <td>94.263</td>\n",
       "      <td>8.809</td>\n",
       "    </tr>\n",
       "    <tr>\n",
       "      <th>...</th>\n",
       "      <td>...</td>\n",
       "      <td>...</td>\n",
       "      <td>...</td>\n",
       "      <td>...</td>\n",
       "      <td>...</td>\n",
       "      <td>...</td>\n",
       "      <td>...</td>\n",
       "      <td>...</td>\n",
       "      <td>...</td>\n",
       "      <td>...</td>\n",
       "      <td>...</td>\n",
       "      <td>...</td>\n",
       "      <td>...</td>\n",
       "      <td>...</td>\n",
       "      <td>...</td>\n",
       "    </tr>\n",
       "    <tr>\n",
       "      <th>5845</th>\n",
       "      <td>tm1014599</td>\n",
       "      <td>Fine Wine</td>\n",
       "      <td>MOVIE</td>\n",
       "      <td>A beautiful love story that can happen between...</td>\n",
       "      <td>2021</td>\n",
       "      <td>0</td>\n",
       "      <td>100</td>\n",
       "      <td>['romance', 'drama']</td>\n",
       "      <td>['NG']</td>\n",
       "      <td>0</td>\n",
       "      <td>tt13857480</td>\n",
       "      <td>6.8</td>\n",
       "      <td>45.0</td>\n",
       "      <td>1.466</td>\n",
       "      <td>0</td>\n",
       "    </tr>\n",
       "    <tr>\n",
       "      <th>5846</th>\n",
       "      <td>tm898842</td>\n",
       "      <td>C/O Kaadhal</td>\n",
       "      <td>MOVIE</td>\n",
       "      <td>A heart warming film that explores the concept...</td>\n",
       "      <td>2021</td>\n",
       "      <td>0</td>\n",
       "      <td>134</td>\n",
       "      <td>['drama']</td>\n",
       "      <td>[]</td>\n",
       "      <td>0</td>\n",
       "      <td>tt11803618</td>\n",
       "      <td>7.7</td>\n",
       "      <td>348.0</td>\n",
       "      <td>0</td>\n",
       "      <td>0</td>\n",
       "    </tr>\n",
       "    <tr>\n",
       "      <th>5847</th>\n",
       "      <td>tm1059008</td>\n",
       "      <td>Lokillo</td>\n",
       "      <td>MOVIE</td>\n",
       "      <td>A controversial TV host and comedian who has b...</td>\n",
       "      <td>2021</td>\n",
       "      <td>0</td>\n",
       "      <td>90</td>\n",
       "      <td>['comedy']</td>\n",
       "      <td>['CO']</td>\n",
       "      <td>0</td>\n",
       "      <td>tt14585902</td>\n",
       "      <td>3.8</td>\n",
       "      <td>68.0</td>\n",
       "      <td>26.005</td>\n",
       "      <td>6.3</td>\n",
       "    </tr>\n",
       "    <tr>\n",
       "      <th>5848</th>\n",
       "      <td>tm1035612</td>\n",
       "      <td>Dad Stop Embarrassing Me - The Afterparty</td>\n",
       "      <td>MOVIE</td>\n",
       "      <td>Jamie Foxx, David Alan Grier and more from the...</td>\n",
       "      <td>2021</td>\n",
       "      <td>PG-13</td>\n",
       "      <td>37</td>\n",
       "      <td>[]</td>\n",
       "      <td>['US']</td>\n",
       "      <td>0</td>\n",
       "      <td>0</td>\n",
       "      <td>0</td>\n",
       "      <td>0</td>\n",
       "      <td>1.296</td>\n",
       "      <td>10.0</td>\n",
       "    </tr>\n",
       "    <tr>\n",
       "      <th>5849</th>\n",
       "      <td>ts271048</td>\n",
       "      <td>Mighty Little Bheem: Kite Festival</td>\n",
       "      <td>SHOW</td>\n",
       "      <td>With winter behind them, Bheem and his townspe...</td>\n",
       "      <td>2021</td>\n",
       "      <td>0</td>\n",
       "      <td>7</td>\n",
       "      <td>['family', 'animation', 'comedy']</td>\n",
       "      <td>[]</td>\n",
       "      <td>1.0</td>\n",
       "      <td>tt13711094</td>\n",
       "      <td>7.8</td>\n",
       "      <td>18.0</td>\n",
       "      <td>2.289</td>\n",
       "      <td>10.0</td>\n",
       "    </tr>\n",
       "  </tbody>\n",
       "</table>\n",
       "<p>2808 rows × 15 columns</p>\n",
       "</div>"
      ],
      "text/plain": [
       "             id                                      title   type  \\\n",
       "3042    ts76645                       The Umbrella Academy   SHOW   \n",
       "3043   ts216746             The Secret of Skinwalker Ranch   SHOW   \n",
       "3044    ts89840                               Virgin River   SHOW   \n",
       "3045   tm441050                              The Gentlemen  MOVIE   \n",
       "3046    ts87466             Demon Slayer: Kimetsu no Yaiba   SHOW   \n",
       "...         ...                                        ...    ...   \n",
       "5845  tm1014599                                  Fine Wine  MOVIE   \n",
       "5846   tm898842                                C/O Kaadhal  MOVIE   \n",
       "5847  tm1059008                                    Lokillo  MOVIE   \n",
       "5848  tm1035612  Dad Stop Embarrassing Me - The Afterparty  MOVIE   \n",
       "5849   ts271048         Mighty Little Bheem: Kite Festival   SHOW   \n",
       "\n",
       "                                            description  release_year  \\\n",
       "3042  A family of former child heroes, now grown apa...          2019   \n",
       "3043  A team of experts and scientists undertakes ex...          2020   \n",
       "3044  After seeing an ad for a midwife, a recently d...          2019   \n",
       "3045  American expat Mickey Pearson has built a high...          2019   \n",
       "3046  It is the Taisho Period in Japan. Tanjiro, a k...          2019   \n",
       "...                                                 ...           ...   \n",
       "5845  A beautiful love story that can happen between...          2021   \n",
       "5846  A heart warming film that explores the concept...          2021   \n",
       "5847  A controversial TV host and comedian who has b...          2021   \n",
       "5848  Jamie Foxx, David Alan Grier and more from the...          2021   \n",
       "5849  With winter behind them, Bheem and his townspe...          2021   \n",
       "\n",
       "     age_certification  runtime  \\\n",
       "3042             TV-14       50   \n",
       "3043             TV-PG       42   \n",
       "3044             TV-14       44   \n",
       "3045                 R      113   \n",
       "3046             TV-MA       25   \n",
       "...                ...      ...   \n",
       "5845                 0      100   \n",
       "5846                 0      134   \n",
       "5847                 0       90   \n",
       "5848             PG-13       37   \n",
       "5849                 0        7   \n",
       "\n",
       "                                                 genres production_countries  \\\n",
       "3042  ['comedy', 'drama', 'fantasy', 'scifi', 'action']               ['US']   \n",
       "3043  ['horror', 'reality', 'thriller', 'documentati...               ['US']   \n",
       "3044                               ['drama', 'romance']               ['US']   \n",
       "3045                      ['crime', 'action', 'comedy']         ['US', 'GB']   \n",
       "3046  ['scifi', 'action', 'animation', 'horror', 'fa...               ['JP']   \n",
       "...                                                 ...                  ...   \n",
       "5845                               ['romance', 'drama']               ['NG']   \n",
       "5846                                          ['drama']                   []   \n",
       "5847                                         ['comedy']               ['CO']   \n",
       "5848                                                 []               ['US']   \n",
       "5849                  ['family', 'animation', 'comedy']                   []   \n",
       "\n",
       "     seasons     imdb_id imdb_score imdb_votes tmdb_popularity tmdb_score  \n",
       "3042     3.0   tt1312171        8.0   230211.0         388.952        8.7  \n",
       "3043     3.0  tt10589968        6.0     2625.0          30.911        8.5  \n",
       "3044     4.0   tt9077530        7.4    36459.0          169.37      8.034  \n",
       "3045       0   tt8367814        7.8   325385.0          67.919      7.687  \n",
       "3046     3.0   tt9335498        8.7    93604.0          94.263      8.809  \n",
       "...      ...         ...        ...        ...             ...        ...  \n",
       "5845       0  tt13857480        6.8       45.0           1.466          0  \n",
       "5846       0  tt11803618        7.7      348.0               0          0  \n",
       "5847       0  tt14585902        3.8       68.0          26.005        6.3  \n",
       "5848       0           0          0          0           1.296       10.0  \n",
       "5849     1.0  tt13711094        7.8       18.0           2.289       10.0  \n",
       "\n",
       "[2808 rows x 15 columns]"
      ]
     },
     "execution_count": 60,
     "metadata": {},
     "output_type": "execute_result"
    }
   ],
   "source": [
    "df2"
   ]
  },
  {
   "cell_type": "markdown",
   "id": "07ece559-889e-406c-a15d-98021900ed37",
   "metadata": {},
   "source": [
    "### Creating a new data frame to fetch titles rated PG-13:"
   ]
  },
  {
   "cell_type": "code",
   "execution_count": 66,
   "id": "938c47e7-9e70-4108-af5c-a4a4085cd0d0",
   "metadata": {},
   "outputs": [],
   "source": [
    "df3 = df2[df2[\"age_certification\"] == \"PG-13\"]"
   ]
  },
  {
   "cell_type": "code",
   "execution_count": 68,
   "id": "259f6a10-abf3-4da6-878c-d8e774026eb3",
   "metadata": {},
   "outputs": [
    {
     "data": {
      "text/html": [
       "<div>\n",
       "<style scoped>\n",
       "    .dataframe tbody tr th:only-of-type {\n",
       "        vertical-align: middle;\n",
       "    }\n",
       "\n",
       "    .dataframe tbody tr th {\n",
       "        vertical-align: top;\n",
       "    }\n",
       "\n",
       "    .dataframe thead th {\n",
       "        text-align: right;\n",
       "    }\n",
       "</style>\n",
       "<table border=\"1\" class=\"dataframe\">\n",
       "  <thead>\n",
       "    <tr style=\"text-align: right;\">\n",
       "      <th></th>\n",
       "      <th>id</th>\n",
       "      <th>title</th>\n",
       "      <th>type</th>\n",
       "      <th>description</th>\n",
       "      <th>release_year</th>\n",
       "      <th>age_certification</th>\n",
       "      <th>runtime</th>\n",
       "      <th>genres</th>\n",
       "      <th>production_countries</th>\n",
       "      <th>seasons</th>\n",
       "      <th>imdb_id</th>\n",
       "      <th>imdb_score</th>\n",
       "      <th>imdb_votes</th>\n",
       "      <th>tmdb_popularity</th>\n",
       "      <th>tmdb_score</th>\n",
       "    </tr>\n",
       "  </thead>\n",
       "  <tbody>\n",
       "    <tr>\n",
       "      <th>3057</th>\n",
       "      <td>tm510203</td>\n",
       "      <td>A Call to Spy</td>\n",
       "      <td>MOVIE</td>\n",
       "      <td>In the beginning of WWII, with Britain becomin...</td>\n",
       "      <td>2019</td>\n",
       "      <td>PG-13</td>\n",
       "      <td>123</td>\n",
       "      <td>['crime', 'drama', 'thriller', 'war', 'history']</td>\n",
       "      <td>['US']</td>\n",
       "      <td>0</td>\n",
       "      <td>tt7698468</td>\n",
       "      <td>6.6</td>\n",
       "      <td>7091.0</td>\n",
       "      <td>11.78</td>\n",
       "      <td>6.8</td>\n",
       "    </tr>\n",
       "    <tr>\n",
       "      <th>3090</th>\n",
       "      <td>tm911973</td>\n",
       "      <td>Enola Holmes</td>\n",
       "      <td>MOVIE</td>\n",
       "      <td>While searching for her missing mother, intrep...</td>\n",
       "      <td>2020</td>\n",
       "      <td>PG-13</td>\n",
       "      <td>123</td>\n",
       "      <td>['crime', 'drama', 'action']</td>\n",
       "      <td>['US']</td>\n",
       "      <td>0</td>\n",
       "      <td>tt7846844</td>\n",
       "      <td>6.6</td>\n",
       "      <td>162511.0</td>\n",
       "      <td>22.461</td>\n",
       "      <td>7.3</td>\n",
       "    </tr>\n",
       "    <tr>\n",
       "      <th>3097</th>\n",
       "      <td>tm362198</td>\n",
       "      <td>Scary Stories to Tell in the Dark</td>\n",
       "      <td>MOVIE</td>\n",
       "      <td>Mill Valley, Pennsylvania, Halloween night, 19...</td>\n",
       "      <td>2019</td>\n",
       "      <td>PG-13</td>\n",
       "      <td>108</td>\n",
       "      <td>['horror', 'thriller']</td>\n",
       "      <td>['US', 'CA', 'CN']</td>\n",
       "      <td>0</td>\n",
       "      <td>tt3387520</td>\n",
       "      <td>6.2</td>\n",
       "      <td>74754.0</td>\n",
       "      <td>36.326</td>\n",
       "      <td>6.5</td>\n",
       "    </tr>\n",
       "    <tr>\n",
       "      <th>3110</th>\n",
       "      <td>tm456156</td>\n",
       "      <td>Sweetheart</td>\n",
       "      <td>MOVIE</td>\n",
       "      <td>Jenn has washed ashore a small tropical island...</td>\n",
       "      <td>2019</td>\n",
       "      <td>PG-13</td>\n",
       "      <td>82</td>\n",
       "      <td>['horror', 'thriller', 'drama', 'fantasy', 'sc...</td>\n",
       "      <td>['US']</td>\n",
       "      <td>0</td>\n",
       "      <td>tt6560164</td>\n",
       "      <td>5.8</td>\n",
       "      <td>8191.0</td>\n",
       "      <td>12.174</td>\n",
       "      <td>6.5</td>\n",
       "    </tr>\n",
       "    <tr>\n",
       "      <th>3123</th>\n",
       "      <td>tm460948</td>\n",
       "      <td>Always Be My Maybe</td>\n",
       "      <td>MOVIE</td>\n",
       "      <td>Reunited after 15 years, famous chef Sasha and...</td>\n",
       "      <td>2019</td>\n",
       "      <td>PG-13</td>\n",
       "      <td>102</td>\n",
       "      <td>['romance', 'comedy']</td>\n",
       "      <td>['US']</td>\n",
       "      <td>0</td>\n",
       "      <td>tt7374948</td>\n",
       "      <td>6.8</td>\n",
       "      <td>55686.0</td>\n",
       "      <td>11.434</td>\n",
       "      <td>6.6</td>\n",
       "    </tr>\n",
       "    <tr>\n",
       "      <th>...</th>\n",
       "      <td>...</td>\n",
       "      <td>...</td>\n",
       "      <td>...</td>\n",
       "      <td>...</td>\n",
       "      <td>...</td>\n",
       "      <td>...</td>\n",
       "      <td>...</td>\n",
       "      <td>...</td>\n",
       "      <td>...</td>\n",
       "      <td>...</td>\n",
       "      <td>...</td>\n",
       "      <td>...</td>\n",
       "      <td>...</td>\n",
       "      <td>...</td>\n",
       "      <td>...</td>\n",
       "    </tr>\n",
       "    <tr>\n",
       "      <th>5643</th>\n",
       "      <td>tm1159301</td>\n",
       "      <td>Forgive Us Our Trespasses</td>\n",
       "      <td>MOVIE</td>\n",
       "      <td>In 1939 Germany, a disabled farm boy is pursue...</td>\n",
       "      <td>2022</td>\n",
       "      <td>PG-13</td>\n",
       "      <td>13</td>\n",
       "      <td>['war', 'drama']</td>\n",
       "      <td>['US']</td>\n",
       "      <td>0</td>\n",
       "      <td>tt17162524</td>\n",
       "      <td>6.5</td>\n",
       "      <td>0</td>\n",
       "      <td>37.229</td>\n",
       "      <td>6.3</td>\n",
       "    </tr>\n",
       "    <tr>\n",
       "      <th>5646</th>\n",
       "      <td>tm1049083</td>\n",
       "      <td>Trese After Dark</td>\n",
       "      <td>MOVIE</td>\n",
       "      <td>Stars and creators gather to discuss \"Trese,\" ...</td>\n",
       "      <td>2021</td>\n",
       "      <td>PG-13</td>\n",
       "      <td>36</td>\n",
       "      <td>['documentation']</td>\n",
       "      <td>['PH']</td>\n",
       "      <td>0</td>\n",
       "      <td>0</td>\n",
       "      <td>0</td>\n",
       "      <td>0</td>\n",
       "      <td>2.792</td>\n",
       "      <td>7.5</td>\n",
       "    </tr>\n",
       "    <tr>\n",
       "      <th>5706</th>\n",
       "      <td>tm1161223</td>\n",
       "      <td>Cat Burglar</td>\n",
       "      <td>MOVIE</td>\n",
       "      <td>In this edgy, over-the-top, interactive trivia...</td>\n",
       "      <td>2022</td>\n",
       "      <td>PG-13</td>\n",
       "      <td>12</td>\n",
       "      <td>['animation', 'comedy']</td>\n",
       "      <td>['IE', 'GB']</td>\n",
       "      <td>0</td>\n",
       "      <td>tt17321170</td>\n",
       "      <td>6.9</td>\n",
       "      <td>0</td>\n",
       "      <td>2.472</td>\n",
       "      <td>5.9</td>\n",
       "    </tr>\n",
       "    <tr>\n",
       "      <th>5763</th>\n",
       "      <td>tm1160938</td>\n",
       "      <td>Adam by Eve: A Live in Animation</td>\n",
       "      <td>MOVIE</td>\n",
       "      <td>Anime, live action and music by cutting-edge a...</td>\n",
       "      <td>2022</td>\n",
       "      <td>PG-13</td>\n",
       "      <td>58</td>\n",
       "      <td>['drama', 'animation', 'music']</td>\n",
       "      <td>['JP']</td>\n",
       "      <td>0</td>\n",
       "      <td>tt18274178</td>\n",
       "      <td>6.1</td>\n",
       "      <td>378.0</td>\n",
       "      <td>3.828</td>\n",
       "      <td>6.3</td>\n",
       "    </tr>\n",
       "    <tr>\n",
       "      <th>5848</th>\n",
       "      <td>tm1035612</td>\n",
       "      <td>Dad Stop Embarrassing Me - The Afterparty</td>\n",
       "      <td>MOVIE</td>\n",
       "      <td>Jamie Foxx, David Alan Grier and more from the...</td>\n",
       "      <td>2021</td>\n",
       "      <td>PG-13</td>\n",
       "      <td>37</td>\n",
       "      <td>[]</td>\n",
       "      <td>['US']</td>\n",
       "      <td>0</td>\n",
       "      <td>0</td>\n",
       "      <td>0</td>\n",
       "      <td>0</td>\n",
       "      <td>1.296</td>\n",
       "      <td>10.0</td>\n",
       "    </tr>\n",
       "  </tbody>\n",
       "</table>\n",
       "<p>148 rows × 15 columns</p>\n",
       "</div>"
      ],
      "text/plain": [
       "             id                                      title   type  \\\n",
       "3057   tm510203                              A Call to Spy  MOVIE   \n",
       "3090   tm911973                               Enola Holmes  MOVIE   \n",
       "3097   tm362198          Scary Stories to Tell in the Dark  MOVIE   \n",
       "3110   tm456156                                 Sweetheart  MOVIE   \n",
       "3123   tm460948                         Always Be My Maybe  MOVIE   \n",
       "...         ...                                        ...    ...   \n",
       "5643  tm1159301                  Forgive Us Our Trespasses  MOVIE   \n",
       "5646  tm1049083                           Trese After Dark  MOVIE   \n",
       "5706  tm1161223                                Cat Burglar  MOVIE   \n",
       "5763  tm1160938           Adam by Eve: A Live in Animation  MOVIE   \n",
       "5848  tm1035612  Dad Stop Embarrassing Me - The Afterparty  MOVIE   \n",
       "\n",
       "                                            description  release_year  \\\n",
       "3057  In the beginning of WWII, with Britain becomin...          2019   \n",
       "3090  While searching for her missing mother, intrep...          2020   \n",
       "3097  Mill Valley, Pennsylvania, Halloween night, 19...          2019   \n",
       "3110  Jenn has washed ashore a small tropical island...          2019   \n",
       "3123  Reunited after 15 years, famous chef Sasha and...          2019   \n",
       "...                                                 ...           ...   \n",
       "5643  In 1939 Germany, a disabled farm boy is pursue...          2022   \n",
       "5646  Stars and creators gather to discuss \"Trese,\" ...          2021   \n",
       "5706  In this edgy, over-the-top, interactive trivia...          2022   \n",
       "5763  Anime, live action and music by cutting-edge a...          2022   \n",
       "5848  Jamie Foxx, David Alan Grier and more from the...          2021   \n",
       "\n",
       "     age_certification  runtime  \\\n",
       "3057             PG-13      123   \n",
       "3090             PG-13      123   \n",
       "3097             PG-13      108   \n",
       "3110             PG-13       82   \n",
       "3123             PG-13      102   \n",
       "...                ...      ...   \n",
       "5643             PG-13       13   \n",
       "5646             PG-13       36   \n",
       "5706             PG-13       12   \n",
       "5763             PG-13       58   \n",
       "5848             PG-13       37   \n",
       "\n",
       "                                                 genres production_countries  \\\n",
       "3057   ['crime', 'drama', 'thriller', 'war', 'history']               ['US']   \n",
       "3090                       ['crime', 'drama', 'action']               ['US']   \n",
       "3097                             ['horror', 'thriller']   ['US', 'CA', 'CN']   \n",
       "3110  ['horror', 'thriller', 'drama', 'fantasy', 'sc...               ['US']   \n",
       "3123                              ['romance', 'comedy']               ['US']   \n",
       "...                                                 ...                  ...   \n",
       "5643                                   ['war', 'drama']               ['US']   \n",
       "5646                                  ['documentation']               ['PH']   \n",
       "5706                            ['animation', 'comedy']         ['IE', 'GB']   \n",
       "5763                    ['drama', 'animation', 'music']               ['JP']   \n",
       "5848                                                 []               ['US']   \n",
       "\n",
       "     seasons     imdb_id imdb_score imdb_votes tmdb_popularity tmdb_score  \n",
       "3057       0   tt7698468        6.6     7091.0           11.78        6.8  \n",
       "3090       0   tt7846844        6.6   162511.0          22.461        7.3  \n",
       "3097       0   tt3387520        6.2    74754.0          36.326        6.5  \n",
       "3110       0   tt6560164        5.8     8191.0          12.174        6.5  \n",
       "3123       0   tt7374948        6.8    55686.0          11.434        6.6  \n",
       "...      ...         ...        ...        ...             ...        ...  \n",
       "5643       0  tt17162524        6.5          0          37.229        6.3  \n",
       "5646       0           0          0          0           2.792        7.5  \n",
       "5706       0  tt17321170        6.9          0           2.472        5.9  \n",
       "5763       0  tt18274178        6.1      378.0           3.828        6.3  \n",
       "5848       0           0          0          0           1.296       10.0  \n",
       "\n",
       "[148 rows x 15 columns]"
      ]
     },
     "execution_count": 68,
     "metadata": {},
     "output_type": "execute_result"
    }
   ],
   "source": [
    "df3"
   ]
  },
  {
   "cell_type": "markdown",
   "id": "6b3a8821-489b-42d7-a2a7-c584c3375d88",
   "metadata": {},
   "source": [
    "### Running information on data frame 3 to see total number of entries in that context of PG-13:"
   ]
  },
  {
   "cell_type": "code",
   "execution_count": 85,
   "id": "c1486941-b1e6-4c66-bee4-8e8157834086",
   "metadata": {},
   "outputs": [
    {
     "name": "stdout",
     "output_type": "stream",
     "text": [
      "<class 'pandas.core.frame.DataFrame'>\n",
      "Index: 148 entries, 3057 to 5848\n",
      "Data columns (total 15 columns):\n",
      " #   Column                Non-Null Count  Dtype \n",
      "---  ------                --------------  ----- \n",
      " 0   id                    148 non-null    object\n",
      " 1   title                 148 non-null    object\n",
      " 2   type                  148 non-null    object\n",
      " 3   description           148 non-null    object\n",
      " 4   release_year          148 non-null    int64 \n",
      " 5   age_certification     148 non-null    object\n",
      " 6   runtime               148 non-null    int64 \n",
      " 7   genres                148 non-null    object\n",
      " 8   production_countries  148 non-null    object\n",
      " 9   seasons               148 non-null    object\n",
      " 10  imdb_id               148 non-null    object\n",
      " 11  imdb_score            148 non-null    object\n",
      " 12  imdb_votes            148 non-null    object\n",
      " 13  tmdb_popularity       148 non-null    object\n",
      " 14  tmdb_score            148 non-null    object\n",
      "dtypes: int64(2), object(13)\n",
      "memory usage: 18.5+ KB\n"
     ]
    }
   ],
   "source": [
    "df3.info()"
   ]
  },
  {
   "cell_type": "markdown",
   "id": "14c07944-999d-43fc-8539-cc332e68b7b4",
   "metadata": {},
   "source": [
    "### Return a box plot on the release year for the original data set:"
   ]
  },
  {
   "cell_type": "code",
   "execution_count": 233,
   "id": "82f22029-8011-44e8-b26f-27197aeaee54",
   "metadata": {
    "scrolled": true
   },
   "outputs": [
    {
     "data": {
      "text/plain": [
       "<Axes: >"
      ]
     },
     "execution_count": 233,
     "metadata": {},
     "output_type": "execute_result"
    }
   ],
   "source": [
    "# Create boxplot for the 'release_year' column\n",
    "df['release_year'].dropna().plot(kind='box', figsize=(8, 6))"
   ]
  },
  {
   "cell_type": "markdown",
   "id": "1d471abb-2649-4d68-b566-51c15cc10ecf",
   "metadata": {},
   "source": [
    "### Return data from column 'Type' where SHOWs and MOVIEs are the different types:"
   ]
  },
  {
   "cell_type": "code",
   "execution_count": 216,
   "id": "66691cfb-a7f3-469a-b39f-bb8de7934cd2",
   "metadata": {},
   "outputs": [
    {
     "data": {
      "text/plain": [
       "array(['SHOW', 'MOVIE'], dtype=object)"
      ]
     },
     "execution_count": 216,
     "metadata": {},
     "output_type": "execute_result"
    }
   ],
   "source": [
    "df[\"type\"].unique()"
   ]
  },
  {
   "cell_type": "markdown",
   "id": "38dbfe6e-1464-4eb9-9b93-144aea942bf3",
   "metadata": {},
   "source": [
    "### Organzing the type data into a histogram:"
   ]
  },
  {
   "cell_type": "code",
   "execution_count": 195,
   "id": "f1ea6a16-6d87-4916-8915-a3706de1d4f4",
   "metadata": {},
   "outputs": [
    {
     "data": {
      "text/plain": [
       "<Axes: >"
      ]
     },
     "execution_count": 195,
     "metadata": {},
     "output_type": "execute_result"
    }
   ],
   "source": [
    "df[\"type\"].hist()"
   ]
  },
  {
   "cell_type": "markdown",
   "id": "df7b5198-24d7-4350-b2e3-a886a02d082e",
   "metadata": {},
   "source": [
    "### Describing the country column, where 'US' is the most popular in the original data set ('df'):"
   ]
  },
  {
   "cell_type": "code",
   "execution_count": 198,
   "id": "4e62473b-6043-4119-8614-aa8c4e5806be",
   "metadata": {},
   "outputs": [
    {
     "data": {
      "text/plain": [
       "count       5850\n",
       "unique       452\n",
       "top       ['US']\n",
       "freq        1959\n",
       "Name: production_countries, dtype: object"
      ]
     },
     "execution_count": 198,
     "metadata": {},
     "output_type": "execute_result"
    }
   ],
   "source": [
    "df[\"production_countries\"].describe()"
   ]
  },
  {
   "cell_type": "markdown",
   "id": "64f2d460-a5cc-4ed1-816b-64e88effa5c3",
   "metadata": {},
   "source": [
    "### Determine a correlation between IMDB_SCORE, IMDB_VOTES, and IMDB_POPULARITY\n",
    "This will require the converson of this data using Pandas to acquire new, numeric values:"
   ]
  },
  {
   "cell_type": "code",
   "execution_count": 201,
   "id": "1dff83a3-45f2-45d3-bb44-a465ac5dfd29",
   "metadata": {},
   "outputs": [],
   "source": [
    "df[\"imdb_score\"] = pd.to_numeric(df[\"imdb_score\"], errors=\"coerce\") # Convert imdb_score to numeric, invalid parsing will become NaN"
   ]
  },
  {
   "cell_type": "code",
   "execution_count": 238,
   "id": "a2af639c-2798-4019-ad50-d3f99a174271",
   "metadata": {},
   "outputs": [],
   "source": [
    "df['imdb_votes'] = pd.to_numeric(df['imdb_votes'], errors='coerce')  # Convert imdb_votes to numeric"
   ]
  },
  {
   "cell_type": "code",
   "execution_count": 162,
   "id": "c9117547-2260-4f27-8d62-80061ffe0a93",
   "metadata": {},
   "outputs": [],
   "source": [
    "df[\"tmdb_popularity\"] = pd.to_numeric(df[\"tmdb_popularity\"], errors=\"coerce\") # Converts tmdb_popularity to numeric"
   ]
  },
  {
   "cell_type": "markdown",
   "id": "f2f0dba5-a7f2-44f0-b2ca-310b5b6b8505",
   "metadata": {},
   "source": [
    "### Verify the conversion of data where int64 (desired) is displayed versus object:"
   ]
  },
  {
   "cell_type": "code",
   "execution_count": 166,
   "id": "45d2e6b3-87e8-421a-a215-626a3b6ec7cf",
   "metadata": {},
   "outputs": [
    {
     "name": "stdout",
     "output_type": "stream",
     "text": [
      "id                       object\n",
      "title                    object\n",
      "type                     object\n",
      "description              object\n",
      "release_year              int64\n",
      "age_certification        object\n",
      "runtime                   int64\n",
      "genres                   object\n",
      "production_countries     object\n",
      "seasons                  object\n",
      "imdb_id                  object\n",
      "imdb_score              float64\n",
      "imdb_votes              float64\n",
      "tmdb_popularity         float64\n",
      "tmdb_score               object\n",
      "dtype: object\n"
     ]
    }
   ],
   "source": [
    "print(df.dtypes)"
   ]
  },
  {
   "cell_type": "markdown",
   "id": "9e8950c4-d392-445c-bd94-d04d44ca7a2b",
   "metadata": {},
   "source": [
    "### Drop rows with missing values in specific columns\n",
    "An alternative method may be filling missing values with a placeholder (e.g. mean or median):"
   ]
  },
  {
   "cell_type": "code",
   "execution_count": 180,
   "id": "2240c6da-730c-446c-83ef-2ca7ef6bd9cc",
   "metadata": {},
   "outputs": [],
   "source": [
    "df = df.dropna(subset=[\"imdb_score\", \"imdb_votes\", \"tmdb_popularity\"])"
   ]
  },
  {
   "cell_type": "markdown",
   "id": "92cccf07-ed41-408f-b247-0c94bb3c47ac",
   "metadata": {},
   "source": [
    "### Correlation Analysis (1)\n",
    "Now that the columns are correctly converted to numeric types you can see the correlation analysis:"
   ]
  },
  {
   "cell_type": "code",
   "execution_count": 176,
   "id": "bb9a0786-aa54-4688-ac00-3463151b60c0",
   "metadata": {},
   "outputs": [
    {
     "name": "stdout",
     "output_type": "stream",
     "text": [
      "                 release_year  imdb_score  imdb_votes  tmdb_popularity\n",
      "release_year         1.000000   -0.114379   -0.205648         0.042928\n",
      "imdb_score          -0.114379    1.000000    0.159753         0.039150\n",
      "imdb_votes          -0.205648    0.159753    1.000000         0.209695\n",
      "tmdb_popularity      0.042928    0.039150    0.209695         1.000000\n"
     ]
    }
   ],
   "source": [
    "print(df[[\"release_year\", \"imdb_score\", \"imdb_votes\", \"tmdb_popularity\"]].corr())"
   ]
  },
  {
   "cell_type": "markdown",
   "id": "276306e9-46da-4834-818f-52e96bf4277e",
   "metadata": {},
   "source": [
    "### Correlation Analysis (2)\n",
    "\n",
    "The correlation matrix between key variables in the dataset reveals the following insights:\n",
    "\n",
    "---\n",
    "\n",
    "- **Release Year vs IMDb Score**: There is a slight negative correlation of **-0.11**. This suggests that, over time, older movies tend to have slightly lower IMDb scores, although the relationship is weak.\n",
    "\n",
    "---\n",
    "  \n",
    "- **Release Year vs IMDb Votes**: A weak negative correlation of **-0.21** indicates that older titles may receive slightly fewer votes on IMDb, though the relationship remains relatively weak.\n",
    "\n",
    "---\n",
    "  \n",
    "- **IMDb Score vs IMDb Votes**: A positive correlation of **0.16** implies a weak positive relationship. As the IMDb score increases, titles tend to accumulate more votes, but the effect is not significant.\n",
    "\n",
    "---\n",
    "\n",
    "- **IMDb Score vs TMDB Popularity**: There is a very weak positive correlation of **0.04**, indicating that IMDb scores have almost no impact on a movie’s popularity on TMDB.\n",
    "\n",
    "---\n",
    "\n",
    "- **IMDb Votes vs TMDB Popularity**: A weak positive correlation of **0.21** shows that movies with more votes on IMDb tend to be slightly more popular on TMDB, although the correlation is still weak.\n",
    "\n",
    "---\n",
    "\n",
    "In summary, the dataset shows mostly weak relationships between the variables, with a few trends that may indicate subtle patterns in how movies are rated and voted on different platforms.\n"
   ]
  },
  {
   "cell_type": "code",
   "execution_count": null,
   "id": "ee3cdcba-1096-42c3-b567-6f29756eef7d",
   "metadata": {},
   "outputs": [],
   "source": []
  }
 ],
 "metadata": {
  "kernelspec": {
   "display_name": "Python [conda env:base] *",
   "language": "python",
   "name": "conda-base-py"
  },
  "language_info": {
   "codemirror_mode": {
    "name": "ipython",
    "version": 3
   },
   "file_extension": ".py",
   "mimetype": "text/x-python",
   "name": "python",
   "nbconvert_exporter": "python",
   "pygments_lexer": "ipython3",
   "version": "3.12.7"
  }
 },
 "nbformat": 4,
 "nbformat_minor": 5
}
