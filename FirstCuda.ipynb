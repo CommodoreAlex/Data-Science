{
 "cells": [
  {
   "attachments": {},
   "cell_type": "markdown",
   "id": "e0c9943e-4ac5-43fa-9fff-4e0b66def5c2",
   "metadata": {},
   "source": [
    "# **CUDA Programming in Juypter Notebook for Beginners**\n",
    "\n",
    "This notebook is designed to guide others through the foundations of CUDA programming, demonstrating how to leverage NVIDIA GPUs for high-performance computing tasks within a Jupyter Notebook. As a data science student, creating this artifact to document and share my learning is invaluable and full of teachable moments. This is only an initial exploration of CUDA programming and use, but it serves as a good resource for future, more advanced projects.\n",
    "\n",
    "### **Why CUDA is Valuable for Data Science:**\n",
    "**CUDA** (Compute Unified Device Architecture) enables you to perform general-purpose computations on GPUs, providing massive parallel processing power. For data science, this means faster performance when handling tasks like:\n",
    "- Accelerating data processing and analysis\n",
    "- Optimizing machine learning algorithms\n",
    "- Writing custom CUDA kernels for specialized tasks\n",
    "\n",
    "Mastering CUDA can enhance your ability to work with large datasets and computationally intensive models, leading to more efficient workflows and quicker results.\n",
    "\n",
    "See the official documentation for CUDA here: https://docs.nvidia.com/cuda/cuda-c-programming-guide/\n",
    "\n",
    "Before you get started, make sure you have the following installed:\n",
    "- NVIDIA GPU with CUDA support\n",
    "- [CUDA Toolkit](https://developer.nvidia.com/cuda-downloads)\n",
    "\n",
    "### **Learning Objectives & What Was Accomplished**\n",
    "\n",
    "1) **Setting Up CUDA:** By following the steps above, I’ve learned how to configure a Conda environment, install the required dependencies, and ensure that Jupyter can access the GPU for computation.\n",
    "\n",
    "2) **Benchmarking CPU vs. GPU Performance:** By replacing NumPy with CuPy, I was able to benchmark the performance difference between CPU and GPU for element-wise operations. This highlighted the performance boost offered by the GPU for certain tasks, demonstrating when and why it might be beneficial to use the GPU over the CPU.\n",
    "\n",
    "3) **Writing Custom CUDA Kernels:** Using CuPy’s RawKernel, I created a custom CUDA kernel to perform an element-wise multiplication, enabling me to execute GPU-accelerated computations directly within Python.\n",
    "\n",
    "These tasks have not only expanded my understanding of how GPUs can be used in data science but also provided practical insights into optimizing workflows using CUDA.\n",
    "\n",
    "---"
   ]
  },
  {
   "attachments": {
    "5420dc75-e7ce-4c2f-b402-7242a65293b7.png": {
     "image/png": "[encoded data removed]"
    }
   },
   "cell_type": "markdown",
   "id": "08706c25-96e4-4faa-a241-9c68a2474ce6",
   "metadata": {},
   "source": [
    "\n",
    "### **1) Steps to Run Jupyter Notebook on GPU (this was frustrating)**\n",
    "\n",
    "Ah, the joys of setting up CUDA... the road to GPU acceleration is paved with dependencies, obscure errors, and cryptic warning messages. These steps should circumvent those issues I experienced.\n",
    "\n",
    "Make sure to install the required Packages:\n",
    "```bash\n",
    "!pip install numpy cupy\n",
    "```\n",
    "\n",
    "1. Create a New Conda Environment\n",
    "First, open a command prompt with admin privileges and run the following command to create a new Conda environment named gpu2:\n",
    "```bash\n",
    "conda create -n gpu2 python=3.6\n",
    "```\n",
    "\n",
    "2. Verify Available Environments\n",
    "Run the following command to list all available Conda environments:\n",
    "```bash\n",
    "conda info -e\n",
    "```\n",
    "\n",
    "3. Activate the Environment\n",
    "Activate the newly created environment using the command:\n",
    "```bash\n",
    "conda activate gpu2\n",
    "```\n",
    "\n",
    "4. Install TensorFlow-GPU\n",
    "Install TensorFlow-GPU version 2.3.0 (or any other compatible version) with the following command:\n",
    "```bash\n",
    "pip install tensorflow-gpu==2.3.0\n",
    "```\n",
    "\n",
    "5. Install Jupyter and Ipykernel\n",
    "Install Jupyter Notebook and the Ipykernel package to create a kernel for the GPU environment:\n",
    "```bash\n",
    "pip install ipykernel\n",
    "```\n",
    "\n",
    "Next, install the kernel to allow Jupyter to recognize the environment:\n",
    "```bash\n",
    "python -m ipykernel install --user --name=gpu2 --display-name \"Python (CUDA)\"\n",
    "```\n",
    "\n",
    "Now you can select your environment in the Jupyter GUI.\n",
    "\n",
    "#### See below for what the top right should look like with your new environment selected:\n",
    "![image.png](attachment:5420dc75-e7ce-4c2f-b402-7242a65293b7.png)\n",
    "\n",
    "---\n"
   ]
  },
  {
   "cell_type": "code",
   "execution_count": 2,
   "id": "8d48187d-d291-4210-a59b-cf45d115591c",
   "metadata": {},
   "outputs": [
    {
     "name": "stdout",
     "output_type": "stream",
     "text": [
      "nvcc: NVIDIA (R) Cuda compiler driver\n",
      "Copyright (c) 2005-2025 NVIDIA Corporation\n",
      "Built on Fri_Feb_21_20:42:46_Pacific_Standard_Time_2025\n",
      "Cuda compilation tools, release 12.8, V12.8.93\n",
      "Build cuda_12.8.r12.8/compiler.35583870_0\n"
     ]
    }
   ],
   "source": [
    "# We can begin with checking the CUDA verison (the '!' lets us run system commands)\n",
    "!nvcc --version"
   ]
  },
  {
   "cell_type": "code",
   "execution_count": 3,
   "id": "1bbd6003-dbde-4af2-831c-626b1ff6fb81",
   "metadata": {},
   "outputs": [
    {
     "name": "stdout",
     "output_type": "stream",
     "text": [
      "Fri Mar 14 18:47:50 2025       \n",
      "+-----------------------------------------------------------------------------------------+\n",
      "| NVIDIA-SMI 572.61                 Driver Version: 572.61         CUDA Version: 12.8     |\n",
      "|-----------------------------------------+------------------------+----------------------+\n",
      "| GPU  Name                  Driver-Model | Bus-Id          Disp.A | Volatile Uncorr. ECC |\n",
      "| Fan  Temp   Perf          Pwr:Usage/Cap |           Memory-Usage | GPU-Util  Compute M. |\n",
      "|                                         |                        |               MIG M. |\n",
      "|=========================================+========================+======================|\n",
      "|   0  NVIDIA GeForce RTX 4070      WDDM  |   00000000:01:00.0  On |                  N/A |\n",
      "|  0%   47C    P8             12W /  200W |    1731MiB /  12282MiB |     19%      Default |\n",
      "|                                         |                        |                  N/A |\n",
      "+-----------------------------------------+------------------------+----------------------+\n",
      "                                                                                         \n",
      "+-----------------------------------------------------------------------------------------+\n",
      "| Processes:                                                                              |\n",
      "|  GPU   GI   CI              PID   Type   Process name                        GPU Memory |\n",
      "|        ID   ID                                                               Usage      |\n",
      "|=========================================================================================|\n",
      "|    0   N/A  N/A            2856    C+G   ...ntrolPanel\\SystemSettings.exe      N/A      |\n",
      "|    0   N/A  N/A           11064    C+G   C:\\Windows\\explorer.exe               N/A      |\n",
      "|    0   N/A  N/A           11200    C+G   ...indows\\System32\\ShellHost.exe      N/A      |\n",
      "|    0   N/A  N/A           12452    C+G   ...yb3d8bbwe\\Microsoft.Notes.exe      N/A      |\n",
      "|    0   N/A  N/A           12656    C+G   ...y\\StartMenuExperienceHost.exe      N/A      |\n",
      "|    0   N/A  N/A           12692    C+G   ...em32\\ApplicationFrameHost.exe      N/A      |\n",
      "|    0   N/A  N/A           12740    C+G   ..._cw5n1h2txyewy\\SearchHost.exe      N/A      |\n",
      "|    0   N/A  N/A           12968    C+G   ...IA app\\CEF\\NVIDIA Overlay.exe      N/A      |\n",
      "|    0   N/A  N/A           14704    C+G   ...IA app\\CEF\\NVIDIA Overlay.exe      N/A      |\n",
      "|    0   N/A  N/A           17372    C+G   ...crosoft\\OneDrive\\OneDrive.exe      N/A      |\n",
      "|    0   N/A  N/A           18104    C+G   ...5n1h2txyewy\\TextInputHost.exe      N/A      |\n",
      "|    0   N/A  N/A           18272    C+G   ...App_cw5n1h2txyewy\\LockApp.exe      N/A      |\n",
      "|    0   N/A  N/A           20428    C+G   ...pp-4.0.433\\RazerAppEngine.exe      N/A      |\n",
      "|    0   N/A  N/A           21440    C+G   ...\\SubAgent\\AlienFXSubAgent.exe      N/A      |\n",
      "|    0   N/A  N/A           24432    C+G   ....0.3065.92\\msedgewebview2.exe      N/A      |\n",
      "|    0   N/A  N/A           25224    C+G   ...4__8wekyb3d8bbwe\\ms-teams.exe      N/A      |\n",
      "|    0   N/A  N/A           25772    C+G   ...xyewy\\ShellExperienceHost.exe      N/A      |\n",
      "|    0   N/A  N/A           26256    C+G   ...Chrome\\Application\\chrome.exe      N/A      |\n",
      "|    0   N/A  N/A           30216    C+G   ...Chrome\\Application\\chrome.exe      N/A      |\n",
      "|    0   N/A  N/A           32984    C+G   ...8bbwe\\PhoneExperienceHost.exe      N/A      |\n",
      "|    0   N/A  N/A           34524    C+G   ...ms\\Microsoft VS Code\\Code.exe      N/A      |\n",
      "|    0   N/A  N/A           36364    C+G   ...rograms\\Obsidian\\Obsidian.exe      N/A      |\n",
      "|    0   N/A  N/A           37796    C+G   ...64__zpdnekdrzrea0\\Spotify.exe      N/A      |\n",
      "|    0   N/A  N/A           42552    C+G   ...cord\\app-1.0.9186\\Discord.exe      N/A      |\n",
      "|    0   N/A  N/A           44784    C+G   ...yb3d8bbwe\\WindowsTerminal.exe      N/A      |\n",
      "+-----------------------------------------------------------------------------------------+\n"
     ]
    }
   ],
   "source": [
    "# Now we can check the GPU status next (hopefully my GPU is sufficient for the gamers out there)\n",
    "!nvidia-smi "
   ]
  },
  {
   "attachments": {
    "960a891c-2fc8-46d0-af53-4063823d9ab7.png": {
     "image/png": "[encoded data removed]"
    }
   },
   "cell_type": "markdown",
   "id": "37b505e8-9c1f-4662-b0cf-90411c9d0a8c",
   "metadata": {},
   "source": [
    "### **Additional Setup Instructions**\n",
    "\n",
    "This is going back to the initial setup, resource at: https://docs.cupy.dev/en/stable/install.html\n",
    "\n",
    "See below for version to install based on the output of the command above, top right- for CUDA Version applicable to your system.\n",
    "![image.png](attachment:960a891c-2fc8-46d0-af53-4063823d9ab7.png)\n"
   ]
  },
  {
   "cell_type": "markdown",
   "id": "bc5ac934-59f6-4e0f-b373-87c1162e7fd7",
   "metadata": {},
   "source": [
    "## **2) Using CuPy for Comparing CPU and GPU Computation**\n",
    "\n",
    "CuPy is a GPU-accelerated library, similar to NumPy, that allows us to perform computations on NVIDIA GPUs. In this section, we’ll compare the performance of element-wise multiplication on the CPU and GPU to highlight how CuPy can speed up tasks by leveraging parallel processing on the GPU."
   ]
  },
  {
   "cell_type": "code",
   "execution_count": 6,
   "id": "587f332f-3ca2-47b7-abab-b35844ee65c4",
   "metadata": {},
   "outputs": [],
   "source": [
    "# Adding in the required imports\n",
    "import cupy as cp\n",
    "import numpy as np\n",
    "import time"
   ]
  },
  {
   "cell_type": "code",
   "execution_count": 7,
   "id": "08bc3434-52a9-49bc-8144-28d04a761cc5",
   "metadata": {},
   "outputs": [],
   "source": [
    "# Creating large arrays on CPU (NumPy)\n",
    "x_cpu = np.random.rand(100000).astype(np.float32)\n",
    "y_cpu = np.random.rand(100000).astype(np.float32)"
   ]
  },
  {
   "cell_type": "code",
   "execution_count": 8,
   "id": "d5741ff1-7dee-4a59-938d-c37d46eeeb29",
   "metadata": {},
   "outputs": [],
   "source": [
    "# Create the same arrays on GPU (CuPy)\n",
    "x_gpu = cp.array(x_cpu)\n",
    "y_gpu = cp.array(y_cpu)"
   ]
  },
  {
   "cell_type": "code",
   "execution_count": 9,
   "id": "d1edb519-a52f-46f6-a905-34fc06f3374e",
   "metadata": {},
   "outputs": [
    {
     "name": "stdout",
     "output_type": "stream",
     "text": [
      "CPU Time: 0.000000 sec\n"
     ]
    }
   ],
   "source": [
    "# CPU Computation\n",
    "t1 = time.time()\n",
    "result_cpu = x_cpu * y_cpu\n",
    "t2 = time.time()\n",
    "print(f\"CPU Time: {t2 - t1:.6f} sec\")"
   ]
  },
  {
   "cell_type": "code",
   "execution_count": 10,
   "id": "c2c7a7e5-7d52-4bd0-96c1-271bc65bf75c",
   "metadata": {},
   "outputs": [
    {
     "name": "stdout",
     "output_type": "stream",
     "text": [
      "GPU Time: 0.025532 sec\n"
     ]
    }
   ],
   "source": [
    "# GPU Computation\n",
    "t1 = time.time()\n",
    "result_gpu = x_gpu * y_gpu\n",
    "cp.cuda.Device(0).synchronize() # Ensure the GPU computation is done\n",
    "t2 = time.time()\n",
    "print(f\"GPU Time: {t2 - t1:.6f} sec\")"
   ]
  },
  {
   "cell_type": "markdown",
   "id": "cc24bb39-567d-4ac6-94f3-79c6c8099510",
   "metadata": {},
   "source": [
    "Sometimes the CPU can perform faster than the GPU if the sample is small enough, which is what I tried to present here. It cannot fully represent the computational power (paralell processing) the GPUs offer, as CPUs do great with SMALL data sets. \n",
    "\n",
    "Below are the reasons why this can occur:"
   ]
  },
  {
   "cell_type": "markdown",
   "id": "00ff414b-6986-4474-b65b-de0ebc158cc2",
   "metadata": {},
   "source": [
    "##### **Lessons Learned from the comparison of CPU vs GPU**\n",
    "\n",
    "1. **Data Transfer Overhead:** Moving data between the CPU and GPU takes time. For smaller datasets, the cost of transferring data outweighs the computational speedup provided by the GPU.\n",
    "2. **Task Size:** GPUs shine with larger, more complex tasks. Small-scale operations (like element-wise multiplication of arrays with 10 million elements) don't fully leverage the GPU's parallel processing capabilities, leading to slower performance compared to the CPU.\n",
    "3. **GPU Setup Time:** The initial overhead of setting up the GPU, including memory allocation and kernel launch, can slow down small operations, especially when compared to the more efficient CPU execution.\n",
    "\n",
    "---"
   ]
  },
  {
   "cell_type": "markdown",
   "id": "d1a7979b-62a4-4728-b1df-9adf2e1eec7e",
   "metadata": {},
   "source": [
    "### Optimizing GPU Usage by Reusing Data\n",
    "\n",
    "The CPU is performing slightly faster than the GPU. We need to find a way to stress a higher load in order to see who does better under pressure. We will keep the data on the GPU for mulitple operations, avoiding more overhead with the transferring of data back and fourth between the CPU and GPU. \n",
    "\n",
    "By reusing data on the GPU, we can better utilize the parallel processing power of the GPU and reduce unecessary setup times."
   ]
  },
  {
   "cell_type": "code",
   "execution_count": 14,
   "id": "afbbc3f2-0fe2-422b-8118-8fa26b209373",
   "metadata": {},
   "outputs": [],
   "source": [
    "# Create larger arrays on CPU (NumPy) - 10 million elements\n",
    "x_cpu = np.random.rand(10000000).astype(np.float32)\n",
    "y_cpu = np.random.rand(10000000).astype(np.float32)"
   ]
  },
  {
   "cell_type": "code",
   "execution_count": 15,
   "id": "1e194fed-4acc-4d57-b6d4-6a089b6f76a0",
   "metadata": {},
   "outputs": [],
   "source": [
    "# Transfer the arrays to the GPU (CuPy)\n",
    "x_gpu = cp.array(x_cpu)  # Transfer x_cpu to GPU\n",
    "y_gpu = cp.array(y_cpu)  # Transfer y_cpu to GPU"
   ]
  },
  {
   "cell_type": "code",
   "execution_count": 16,
   "id": "c6dcfe5d-d3fa-4cab-ba7f-59d2e425f825",
   "metadata": {},
   "outputs": [
    {
     "name": "stdout",
     "output_type": "stream",
     "text": [
      "CPU Time: 0.008142 sec\n"
     ]
    }
   ],
   "source": [
    "# CPU Computation (Single Operation)\n",
    "t1 = time.time()\n",
    "result_cpu = x_cpu * y_cpu  # Perform element-wise multiplication on CPU\n",
    "t2 = time.time()\n",
    "print(f\"CPU Time: {t2 - t1:.6f} sec\")"
   ]
  },
  {
   "cell_type": "code",
   "execution_count": 17,
   "id": "71365698-8be2-46fa-99f1-81f11b5a1ca4",
   "metadata": {},
   "outputs": [
    {
     "name": "stdout",
     "output_type": "stream",
     "text": [
      "GPU Time (First Operation): 0.002000 sec\n"
     ]
    }
   ],
   "source": [
    "# GPU Computation (First Operation)\n",
    "t1 = time.time()\n",
    "result_gpu = x_gpu * y_gpu  # Perform element-wise multiplication on GPU\n",
    "cp.cuda.Device(0).synchronize()  # Ensure GPU computation is done before timing\n",
    "t2 = time.time()\n",
    "print(f\"GPU Time (First Operation): {t2 - t1:.6f} sec\")"
   ]
  },
  {
   "cell_type": "code",
   "execution_count": 18,
   "id": "8ef1daf3-dfc4-4488-862b-7ae944cbbab0",
   "metadata": {},
   "outputs": [
    {
     "name": "stdout",
     "output_type": "stream",
     "text": [
      "GPU Time (Reused Data): 0.002003 sec\n"
     ]
    }
   ],
   "source": [
    "# GPU Computation (Second Operation) - Reusing the data already stored on the GPU to avoid transfer overhead\n",
    "t1 = time.time()\n",
    "result_gpu2 = x_gpu * y_gpu  # Reuse the same GPU data for a second operation\n",
    "cp.cuda.Device(0).synchronize()  # Ensure GPU computation is done before timing\n",
    "t2 = time.time()\n",
    "print(f\"GPU Time (Reused Data): {t2 - t1:.6f} sec\")"
   ]
  },
  {
   "cell_type": "markdown",
   "id": "43ef70cb-92fb-45e7-9594-71b2d3684600",
   "metadata": {},
   "source": [
    "##### **Lessons Learned from the comparison of CPU vs GPU (with second round)**\n",
    "\n",
    "The GPU performed significantly faster, especially in the second round with data reuse. This is due to the massive nubmer of cores available for parallel processing. Unlike CPUs, which typically have a small number of cores optimized for sequential tasks, GPUs can have thousands of cores designed to handle many operations simultaneously. \n",
    "\n",
    "This makes GPUs highly efficent for tasks like element-wise multiplications on large datasets, where parallelism can be fully leveraged. The data reuse in the second round also helped avoid transfer overhead, allowing the GPU to perform optimally.\n",
    "\n",
    "---"
   ]
  },
  {
   "cell_type": "markdown",
   "id": "e9ce9623-1341-40d3-bb44-990d4930ba32",
   "metadata": {},
   "source": [
    "## **3) Writing Custom CUDA Kernels**"
   ]
  },
  {
   "cell_type": "markdown",
   "id": "85206f03-fb70-40d2-89ad-84d6ccd0a7cf",
   "metadata": {},
   "source": [
    "In addition to using CuPy for simple array operations, we can write our own CUDA kernels directly within Python using CuPy's `RawKernel`. This allows us to fully customize how the GPU performs certain computations. Understanding how to write custom kernels is valuable because it opens up the possibility of optimizing algorithms to run more efficiently on the GPU for large-scale data processing tasks\n",
    "\n",
    "---\n",
    "This kernel, written in CUDA C, performs element-wise multiplication of two arrays (x and y) and stores the result in out. It runs on the GPU using parallel threads for efficient computation."
   ]
  },
  {
   "cell_type": "code",
   "execution_count": 45,
   "id": "5b42c3fb-7857-42fb-a2df-8527eba5ef3e",
   "metadata": {},
   "outputs": [],
   "source": [
    "# Define CUDA Kernel using CuPy's RawKernel\n",
    "cuda_kernel = cp.RawKernel(r'''\n",
    "extern \"C\" __global__\n",
    "void multiply_kernel(const float* x, const float* y, float* out, int size) {\n",
    "    // Calculcate unique index for each thread\n",
    "    int idx = threadIdx.x + blockIdx.x * blockDim.x;\n",
    "\n",
    "    // Ensure that the thread's index is within bounds\n",
    "    if (idx < size) {\n",
    "        // Performs element-wise multiplication and store result in 'out'\n",
    "        out[idx] = x[idx] * y[idx];\n",
    "    }\n",
    "}\n",
    "''', 'multiply_kernel') # The second argument is the name of the kernel function"
   ]
  },
  {
   "cell_type": "markdown",
   "id": "4af603ef-a81e-4bac-8375-c5a5a3f05d84",
   "metadata": {},
   "source": [
    "Random data is generated for the arrays, and cp.empty_like(x) initializes an empty array to hold the results."
   ]
  },
  {
   "cell_type": "code",
   "execution_count": 67,
   "id": "4821aa8a-3a42-48b4-87b6-defe13d6bcc4",
   "metadata": {},
   "outputs": [],
   "source": [
    "# Initialize data\n",
    "size = 1000000\n",
    "x = cp.random.rand(size).astype(cp.float32)\n",
    "y = cp.random.rand(size).astype(cp.float32)\n",
    "out = cp.empty_like(x)"
   ]
  },
  {
   "cell_type": "markdown",
   "id": "c134bcbf-34d4-4b84-b746-19af0fcc978a",
   "metadata": {},
   "source": [
    "We define the number of threads per block and the number of blocks per grid. This determines how the kernel is divided across the GPU's cores, enabling parallel computation for large datasets."
   ]
  },
  {
   "cell_type": "code",
   "execution_count": 49,
   "id": "ad26e080-4357-4d01-80aa-9dfd2a86db87",
   "metadata": {},
   "outputs": [],
   "source": [
    "# Launch Kernel\n",
    "threads_per_block = 256\n",
    "blocks_per_grid = (size + threads_per_block - 1) // threads_per_block\n",
    "cuda_kernel((blocks_per_grid,), (threads_per_block,), (x, y, out, size))"
   ]
  },
  {
   "cell_type": "markdown",
   "id": "10666710-f767-4ec2-ab9e-a49d4338ba0c",
   "metadata": {},
   "source": [
    "After the kernel executes, we validate the result by checking if the GPU-computed output matches the result from a standard NumPy multiplication."
   ]
  },
  {
   "cell_type": "code",
   "execution_count": 51,
   "id": "e6c81c36-44a7-4523-acee-eb55a3fb1f0e",
   "metadata": {},
   "outputs": [
    {
     "name": "stdout",
     "output_type": "stream",
     "text": [
      "True\n"
     ]
    }
   ],
   "source": [
    "# Validate result\n",
    "print(cp.allclose(out, x * y))  # Should print True"
   ]
  },
  {
   "cell_type": "markdown",
   "id": "a50fcf96-f2ed-481c-96c9-8640b880ecc9",
   "metadata": {},
   "source": [
    "##### **Value for Data Science**\n",
    "\n",
    "Writing custom kernels like this is a powerful tool for optimizing data processing tasks in Python. This can be great for custom algorithms, computationally intensive operations, and you can take full control of how the GPU operates and processes your data as opposed to relying on high-level libraries. This may yield significant performance improvements for large-scale data analysis tasks.\n",
    "\n",
    "---"
   ]
  },
  {
   "cell_type": "markdown",
   "id": "f3bcefa2-131f-4ca1-8830-bcdacbca7fe6",
   "metadata": {},
   "source": [
    "# Closing Thoughts on CUDA Exploration\n",
    "\n",
    "Something that is cool about CUDA is it could significantly increase performance pertaining to the other tasks I've been working on in this repository. For instance, `CuPy` could be used in lieu of `NumPy` to accelerate array operations by offloading them to the GPU. \n",
    "\n",
    "While NumPy runs computations on a single CPU core, CuPy utilizes thousands of GPU cores in parallel, providing a significant speed boost, especially for large-scale data processing or machine learning tasks.\n",
    "\n",
    "Just making that replacement allows you to take advantage of power that makes your workflows faster and more efficient, without rewriting too much, and provides more exposure to emerging technologies.\n",
    "\n",
    "---"
   ]
  },
  {
   "cell_type": "code",
   "execution_count": null,
   "id": "9f7eae03-1ed6-4700-ba1e-b37c5fa69f7f",
   "metadata": {},
   "outputs": [],
   "source": []
  }
 ],
 "metadata": {
  "kernelspec": {
   "display_name": "Python (CUDA)",
   "language": "python",
   "name": "cuda_env"
  },
  "language_info": {
   "codemirror_mode": {
    "name": "ipython",
    "version": 3
   },
   "file_extension": ".py",
   "mimetype": "text/x-python",
   "name": "python",
   "nbconvert_exporter": "python",
   "pygments_lexer": "ipython3",
   "version": "3.12.7"
  }
 },
 "nbformat": 4,
 "nbformat_minor": 5
}
